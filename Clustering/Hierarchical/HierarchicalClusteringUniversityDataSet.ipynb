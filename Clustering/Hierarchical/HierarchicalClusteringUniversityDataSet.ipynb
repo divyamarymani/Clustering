{
 "cells": [
  {
   "cell_type": "code",
   "execution_count": 166,
   "id": "e67915ae",
   "metadata": {},
   "outputs": [],
   "source": [
    "import pandas as pd #data manipulation\n",
    "from sklearn.impute import SimpleImputer # performing Imputation task\n",
    "import numpy as np #numerical calculations\n",
    "import matplotlib.pyplot as plt #data visualization\n",
    "from feature_engine.outliers import Winsorizer #outlier treatment\n",
    "import seaborn as sns #advanced data visualization\n",
    "import scipy.stats as stats #statistical analysis\n",
    "import pylab\n",
    "from scipy.cluster.hierarchy import linkage, dendrogram  #for creating dendrogram\n",
    "from sklearn.cluster import AgglomerativeClustering"
   ]
  },
  {
   "cell_type": "code",
   "execution_count": 129,
   "id": "980ee4be",
   "metadata": {
    "scrolled": true
   },
   "outputs": [
    {
     "data": {
      "text/html": [
       "<div>\n",
       "<style scoped>\n",
       "    .dataframe tbody tr th:only-of-type {\n",
       "        vertical-align: middle;\n",
       "    }\n",
       "\n",
       "    .dataframe tbody tr th {\n",
       "        vertical-align: top;\n",
       "    }\n",
       "\n",
       "    .dataframe thead th {\n",
       "        text-align: right;\n",
       "    }\n",
       "</style>\n",
       "<table border=\"1\" class=\"dataframe\">\n",
       "  <thead>\n",
       "    <tr style=\"text-align: right;\">\n",
       "      <th></th>\n",
       "      <th>UnivID</th>\n",
       "      <th>Univ</th>\n",
       "      <th>State</th>\n",
       "      <th>SAT</th>\n",
       "      <th>Top10</th>\n",
       "      <th>Accept</th>\n",
       "      <th>SFRatio</th>\n",
       "      <th>Expenses</th>\n",
       "      <th>GradRate</th>\n",
       "    </tr>\n",
       "  </thead>\n",
       "  <tbody>\n",
       "    <tr>\n",
       "      <th>0</th>\n",
       "      <td>1</td>\n",
       "      <td>Brown</td>\n",
       "      <td>RI</td>\n",
       "      <td>1310.0</td>\n",
       "      <td>89</td>\n",
       "      <td>22</td>\n",
       "      <td>13.0</td>\n",
       "      <td>22704</td>\n",
       "      <td>94.0</td>\n",
       "    </tr>\n",
       "    <tr>\n",
       "      <th>1</th>\n",
       "      <td>2</td>\n",
       "      <td>CalTech</td>\n",
       "      <td>CA</td>\n",
       "      <td>1415.0</td>\n",
       "      <td>100</td>\n",
       "      <td>25</td>\n",
       "      <td>6.0</td>\n",
       "      <td>63575</td>\n",
       "      <td>81.0</td>\n",
       "    </tr>\n",
       "    <tr>\n",
       "      <th>2</th>\n",
       "      <td>3</td>\n",
       "      <td>CMU</td>\n",
       "      <td>PA</td>\n",
       "      <td>1260.0</td>\n",
       "      <td>62</td>\n",
       "      <td>59</td>\n",
       "      <td>9.0</td>\n",
       "      <td>25026</td>\n",
       "      <td>72.0</td>\n",
       "    </tr>\n",
       "    <tr>\n",
       "      <th>3</th>\n",
       "      <td>4</td>\n",
       "      <td>Columbia</td>\n",
       "      <td>NY</td>\n",
       "      <td>1310.0</td>\n",
       "      <td>76</td>\n",
       "      <td>24</td>\n",
       "      <td>12.0</td>\n",
       "      <td>31510</td>\n",
       "      <td>NaN</td>\n",
       "    </tr>\n",
       "    <tr>\n",
       "      <th>4</th>\n",
       "      <td>5</td>\n",
       "      <td>Cornell</td>\n",
       "      <td>NY</td>\n",
       "      <td>1280.0</td>\n",
       "      <td>83</td>\n",
       "      <td>33</td>\n",
       "      <td>13.0</td>\n",
       "      <td>21864</td>\n",
       "      <td>90.0</td>\n",
       "    </tr>\n",
       "  </tbody>\n",
       "</table>\n",
       "</div>"
      ],
      "text/plain": [
       "   UnivID      Univ State     SAT  Top10  Accept  SFRatio  Expenses  GradRate\n",
       "0       1     Brown    RI  1310.0     89      22     13.0     22704      94.0\n",
       "1       2   CalTech    CA  1415.0    100      25      6.0     63575      81.0\n",
       "2       3       CMU    PA  1260.0     62      59      9.0     25026      72.0\n",
       "3       4  Columbia    NY  1310.0     76      24     12.0     31510       NaN\n",
       "4       5   Cornell    NY  1280.0     83      33     13.0     21864      90.0"
      ]
     },
     "execution_count": 129,
     "metadata": {},
     "output_type": "execute_result"
    }
   ],
   "source": [
    "data = pd.read_excel(\"University_Clustering.xlsx\") #read the dataframe\n",
    "data.head() # get first 5 rows"
   ]
  },
  {
   "cell_type": "code",
   "execution_count": 130,
   "id": "15dedf68",
   "metadata": {},
   "outputs": [
    {
     "data": {
      "text/plain": [
       "(25, 9)"
      ]
     },
     "execution_count": 130,
     "metadata": {},
     "output_type": "execute_result"
    }
   ],
   "source": [
    "data.shape #diamension of the dataframe"
   ]
  },
  {
   "cell_type": "code",
   "execution_count": 131,
   "id": "66d0cca1",
   "metadata": {},
   "outputs": [
    {
     "name": "stdout",
     "output_type": "stream",
     "text": [
      "<class 'pandas.core.frame.DataFrame'>\n",
      "RangeIndex: 25 entries, 0 to 24\n",
      "Data columns (total 9 columns):\n",
      " #   Column    Non-Null Count  Dtype  \n",
      "---  ------    --------------  -----  \n",
      " 0   UnivID    25 non-null     int64  \n",
      " 1   Univ      25 non-null     object \n",
      " 2   State     25 non-null     object \n",
      " 3   SAT       24 non-null     float64\n",
      " 4   Top10     25 non-null     int64  \n",
      " 5   Accept    25 non-null     int64  \n",
      " 6   SFRatio   24 non-null     float64\n",
      " 7   Expenses  25 non-null     int64  \n",
      " 8   GradRate  24 non-null     float64\n",
      "dtypes: float64(3), int64(4), object(2)\n",
      "memory usage: 1.9+ KB\n"
     ]
    }
   ],
   "source": [
    "data.info()  #information of the dataframe"
   ]
  },
  {
   "cell_type": "code",
   "execution_count": 132,
   "id": "4addf49a",
   "metadata": {},
   "outputs": [
    {
     "data": {
      "text/html": [
       "<div>\n",
       "<style scoped>\n",
       "    .dataframe tbody tr th:only-of-type {\n",
       "        vertical-align: middle;\n",
       "    }\n",
       "\n",
       "    .dataframe tbody tr th {\n",
       "        vertical-align: top;\n",
       "    }\n",
       "\n",
       "    .dataframe thead th {\n",
       "        text-align: right;\n",
       "    }\n",
       "</style>\n",
       "<table border=\"1\" class=\"dataframe\">\n",
       "  <thead>\n",
       "    <tr style=\"text-align: right;\">\n",
       "      <th></th>\n",
       "      <th>UnivID</th>\n",
       "      <th>SAT</th>\n",
       "      <th>Top10</th>\n",
       "      <th>Accept</th>\n",
       "      <th>SFRatio</th>\n",
       "      <th>Expenses</th>\n",
       "      <th>GradRate</th>\n",
       "    </tr>\n",
       "  </thead>\n",
       "  <tbody>\n",
       "    <tr>\n",
       "      <th>count</th>\n",
       "      <td>25.000000</td>\n",
       "      <td>24.000000</td>\n",
       "      <td>25.000000</td>\n",
       "      <td>25.000000</td>\n",
       "      <td>24.000000</td>\n",
       "      <td>25.000000</td>\n",
       "      <td>24.000000</td>\n",
       "    </tr>\n",
       "    <tr>\n",
       "      <th>mean</th>\n",
       "      <td>13.000000</td>\n",
       "      <td>1266.916667</td>\n",
       "      <td>76.480000</td>\n",
       "      <td>39.200000</td>\n",
       "      <td>12.708333</td>\n",
       "      <td>27388.000000</td>\n",
       "      <td>86.666667</td>\n",
       "    </tr>\n",
       "    <tr>\n",
       "      <th>std</th>\n",
       "      <td>7.359801</td>\n",
       "      <td>110.663578</td>\n",
       "      <td>19.433905</td>\n",
       "      <td>19.727308</td>\n",
       "      <td>4.154402</td>\n",
       "      <td>14424.883165</td>\n",
       "      <td>9.248580</td>\n",
       "    </tr>\n",
       "    <tr>\n",
       "      <th>min</th>\n",
       "      <td>1.000000</td>\n",
       "      <td>1005.000000</td>\n",
       "      <td>28.000000</td>\n",
       "      <td>14.000000</td>\n",
       "      <td>6.000000</td>\n",
       "      <td>8704.000000</td>\n",
       "      <td>67.000000</td>\n",
       "    </tr>\n",
       "    <tr>\n",
       "      <th>25%</th>\n",
       "      <td>7.000000</td>\n",
       "      <td>1236.250000</td>\n",
       "      <td>74.000000</td>\n",
       "      <td>24.000000</td>\n",
       "      <td>10.750000</td>\n",
       "      <td>15140.000000</td>\n",
       "      <td>80.750000</td>\n",
       "    </tr>\n",
       "    <tr>\n",
       "      <th>50%</th>\n",
       "      <td>13.000000</td>\n",
       "      <td>1287.500000</td>\n",
       "      <td>81.000000</td>\n",
       "      <td>36.000000</td>\n",
       "      <td>12.000000</td>\n",
       "      <td>27553.000000</td>\n",
       "      <td>90.000000</td>\n",
       "    </tr>\n",
       "    <tr>\n",
       "      <th>75%</th>\n",
       "      <td>19.000000</td>\n",
       "      <td>1345.000000</td>\n",
       "      <td>90.000000</td>\n",
       "      <td>50.000000</td>\n",
       "      <td>14.250000</td>\n",
       "      <td>34870.000000</td>\n",
       "      <td>94.000000</td>\n",
       "    </tr>\n",
       "    <tr>\n",
       "      <th>max</th>\n",
       "      <td>25.000000</td>\n",
       "      <td>1415.000000</td>\n",
       "      <td>100.000000</td>\n",
       "      <td>90.000000</td>\n",
       "      <td>25.000000</td>\n",
       "      <td>63575.000000</td>\n",
       "      <td>97.000000</td>\n",
       "    </tr>\n",
       "  </tbody>\n",
       "</table>\n",
       "</div>"
      ],
      "text/plain": [
       "          UnivID          SAT       Top10     Accept    SFRatio      Expenses  \\\n",
       "count  25.000000    24.000000   25.000000  25.000000  24.000000     25.000000   \n",
       "mean   13.000000  1266.916667   76.480000  39.200000  12.708333  27388.000000   \n",
       "std     7.359801   110.663578   19.433905  19.727308   4.154402  14424.883165   \n",
       "min     1.000000  1005.000000   28.000000  14.000000   6.000000   8704.000000   \n",
       "25%     7.000000  1236.250000   74.000000  24.000000  10.750000  15140.000000   \n",
       "50%    13.000000  1287.500000   81.000000  36.000000  12.000000  27553.000000   \n",
       "75%    19.000000  1345.000000   90.000000  50.000000  14.250000  34870.000000   \n",
       "max    25.000000  1415.000000  100.000000  90.000000  25.000000  63575.000000   \n",
       "\n",
       "        GradRate  \n",
       "count  24.000000  \n",
       "mean   86.666667  \n",
       "std     9.248580  \n",
       "min    67.000000  \n",
       "25%    80.750000  \n",
       "50%    90.000000  \n",
       "75%    94.000000  \n",
       "max    97.000000  "
      ]
     },
     "execution_count": 132,
     "metadata": {},
     "output_type": "execute_result"
    }
   ],
   "source": [
    "data.describe()  #EDA"
   ]
  },
  {
   "cell_type": "code",
   "execution_count": 133,
   "id": "c14d66a8",
   "metadata": {},
   "outputs": [
    {
     "name": "stdout",
     "output_type": "stream",
     "text": [
      "<class 'pandas.core.frame.DataFrame'>\n",
      "RangeIndex: 25 entries, 0 to 24\n",
      "Data columns (total 8 columns):\n",
      " #   Column    Non-Null Count  Dtype  \n",
      "---  ------    --------------  -----  \n",
      " 0   Univ      25 non-null     object \n",
      " 1   State     25 non-null     object \n",
      " 2   SAT       24 non-null     float64\n",
      " 3   Top10     25 non-null     int64  \n",
      " 4   Accept    25 non-null     int64  \n",
      " 5   SFRatio   24 non-null     float64\n",
      " 6   Expenses  25 non-null     int64  \n",
      " 7   GradRate  24 non-null     float64\n",
      "dtypes: float64(3), int64(3), object(2)\n",
      "memory usage: 1.7+ KB\n"
     ]
    }
   ],
   "source": [
    "data.drop('UnivID', axis = 1, inplace = True)   #removing UnivID column \n",
    "data.info()"
   ]
  },
  {
   "cell_type": "code",
   "execution_count": 134,
   "id": "93544b64",
   "metadata": {},
   "outputs": [
    {
     "data": {
      "text/plain": [
       "0"
      ]
     },
     "execution_count": 134,
     "metadata": {},
     "output_type": "execute_result"
    }
   ],
   "source": [
    "data.duplicated().sum() #checking for duplicate values"
   ]
  },
  {
   "cell_type": "code",
   "execution_count": 135,
   "id": "de85dac1",
   "metadata": {},
   "outputs": [
    {
     "data": {
      "text/plain": [
       "Univ        0\n",
       "State       0\n",
       "SAT         1\n",
       "Top10       0\n",
       "Accept      0\n",
       "SFRatio     1\n",
       "Expenses    0\n",
       "GradRate    1\n",
       "dtype: int64"
      ]
     },
     "execution_count": 135,
     "metadata": {},
     "output_type": "execute_result"
    }
   ],
   "source": [
    "data.isna().sum()   #checking for null values"
   ]
  },
  {
   "cell_type": "code",
   "execution_count": 136,
   "id": "2f8cb0f0",
   "metadata": {},
   "outputs": [],
   "source": [
    "#imputation for removing the duplicates"
   ]
  },
  {
   "cell_type": "code",
   "execution_count": 137,
   "id": "9a63d54a",
   "metadata": {},
   "outputs": [
    {
     "data": {
      "text/plain": [
       "0"
      ]
     },
     "execution_count": 137,
     "metadata": {},
     "output_type": "execute_result"
    }
   ],
   "source": [
    "mean_imputer = SimpleImputer(missing_values = np.nan, strategy = 'mean')\n",
    "data['SAT'] = pd.DataFrame(mean_imputer.fit_transform(data[['SAT']]))\n",
    "data['SAT'].isna().sum()"
   ]
  },
  {
   "cell_type": "code",
   "execution_count": 138,
   "id": "7755826d",
   "metadata": {},
   "outputs": [
    {
     "data": {
      "text/plain": [
       "0"
      ]
     },
     "execution_count": 138,
     "metadata": {},
     "output_type": "execute_result"
    }
   ],
   "source": [
    "median_imputer = SimpleImputer(missing_values = np.nan, strategy = 'median')\n",
    "data['SFRatio'] = pd.DataFrame(mean_imputer.fit_transform(data[['SFRatio']]))\n",
    "data['SFRatio'].isna().sum()"
   ]
  },
  {
   "cell_type": "code",
   "execution_count": 139,
   "id": "46041c41",
   "metadata": {},
   "outputs": [
    {
     "data": {
      "text/plain": [
       "0"
      ]
     },
     "execution_count": 139,
     "metadata": {},
     "output_type": "execute_result"
    }
   ],
   "source": [
    "median_imputer = SimpleImputer(missing_values = np.nan, strategy = 'median')\n",
    "data['GradRate'] = pd.DataFrame(median_imputer.fit_transform(data[['GradRate']]))\n",
    "data['GradRate'].isna().sum()"
   ]
  },
  {
   "cell_type": "code",
   "execution_count": 140,
   "id": "79a4e734",
   "metadata": {},
   "outputs": [
    {
     "data": {
      "text/plain": [
       "Univ        0\n",
       "State       0\n",
       "SAT         0\n",
       "Top10       0\n",
       "Accept      0\n",
       "SFRatio     0\n",
       "Expenses    0\n",
       "GradRate    0\n",
       "dtype: int64"
      ]
     },
     "execution_count": 140,
     "metadata": {},
     "output_type": "execute_result"
    }
   ],
   "source": [
    "data.isna().sum()    #checking again for missing values"
   ]
  },
  {
   "cell_type": "code",
   "execution_count": 141,
   "id": "f917369b",
   "metadata": {},
   "outputs": [
    {
     "data": {
      "text/html": [
       "<div>\n",
       "<style scoped>\n",
       "    .dataframe tbody tr th:only-of-type {\n",
       "        vertical-align: middle;\n",
       "    }\n",
       "\n",
       "    .dataframe tbody tr th {\n",
       "        vertical-align: top;\n",
       "    }\n",
       "\n",
       "    .dataframe thead th {\n",
       "        text-align: right;\n",
       "    }\n",
       "</style>\n",
       "<table border=\"1\" class=\"dataframe\">\n",
       "  <thead>\n",
       "    <tr style=\"text-align: right;\">\n",
       "      <th></th>\n",
       "      <th>Univ</th>\n",
       "      <th>State</th>\n",
       "      <th>SAT</th>\n",
       "      <th>Top10</th>\n",
       "      <th>Accept</th>\n",
       "      <th>SFRatio</th>\n",
       "      <th>Expenses</th>\n",
       "      <th>GradRate</th>\n",
       "    </tr>\n",
       "  </thead>\n",
       "  <tbody>\n",
       "    <tr>\n",
       "      <th>0</th>\n",
       "      <td>Brown</td>\n",
       "      <td>RI</td>\n",
       "      <td>1310.0</td>\n",
       "      <td>89</td>\n",
       "      <td>22</td>\n",
       "      <td>13.0</td>\n",
       "      <td>22704</td>\n",
       "      <td>94.0</td>\n",
       "    </tr>\n",
       "    <tr>\n",
       "      <th>1</th>\n",
       "      <td>CalTech</td>\n",
       "      <td>CA</td>\n",
       "      <td>1415.0</td>\n",
       "      <td>100</td>\n",
       "      <td>25</td>\n",
       "      <td>6.0</td>\n",
       "      <td>63575</td>\n",
       "      <td>81.0</td>\n",
       "    </tr>\n",
       "    <tr>\n",
       "      <th>2</th>\n",
       "      <td>CMU</td>\n",
       "      <td>PA</td>\n",
       "      <td>1260.0</td>\n",
       "      <td>62</td>\n",
       "      <td>59</td>\n",
       "      <td>9.0</td>\n",
       "      <td>25026</td>\n",
       "      <td>72.0</td>\n",
       "    </tr>\n",
       "    <tr>\n",
       "      <th>3</th>\n",
       "      <td>Columbia</td>\n",
       "      <td>NY</td>\n",
       "      <td>1310.0</td>\n",
       "      <td>76</td>\n",
       "      <td>24</td>\n",
       "      <td>12.0</td>\n",
       "      <td>31510</td>\n",
       "      <td>90.0</td>\n",
       "    </tr>\n",
       "    <tr>\n",
       "      <th>4</th>\n",
       "      <td>Cornell</td>\n",
       "      <td>NY</td>\n",
       "      <td>1280.0</td>\n",
       "      <td>83</td>\n",
       "      <td>33</td>\n",
       "      <td>13.0</td>\n",
       "      <td>21864</td>\n",
       "      <td>90.0</td>\n",
       "    </tr>\n",
       "  </tbody>\n",
       "</table>\n",
       "</div>"
      ],
      "text/plain": [
       "       Univ State     SAT  Top10  Accept  SFRatio  Expenses  GradRate\n",
       "0     Brown    RI  1310.0     89      22     13.0     22704      94.0\n",
       "1   CalTech    CA  1415.0    100      25      6.0     63575      81.0\n",
       "2       CMU    PA  1260.0     62      59      9.0     25026      72.0\n",
       "3  Columbia    NY  1310.0     76      24     12.0     31510      90.0\n",
       "4   Cornell    NY  1280.0     83      33     13.0     21864      90.0"
      ]
     },
     "execution_count": 141,
     "metadata": {},
     "output_type": "execute_result"
    }
   ],
   "source": [
    "#deviding categorical data and numerical data\n",
    "data.head()"
   ]
  },
  {
   "cell_type": "code",
   "execution_count": 142,
   "id": "1902badb",
   "metadata": {},
   "outputs": [
    {
     "data": {
      "text/html": [
       "<div>\n",
       "<style scoped>\n",
       "    .dataframe tbody tr th:only-of-type {\n",
       "        vertical-align: middle;\n",
       "    }\n",
       "\n",
       "    .dataframe tbody tr th {\n",
       "        vertical-align: top;\n",
       "    }\n",
       "\n",
       "    .dataframe thead th {\n",
       "        text-align: right;\n",
       "    }\n",
       "</style>\n",
       "<table border=\"1\" class=\"dataframe\">\n",
       "  <thead>\n",
       "    <tr style=\"text-align: right;\">\n",
       "      <th></th>\n",
       "      <th>SAT</th>\n",
       "      <th>Top10</th>\n",
       "      <th>Accept</th>\n",
       "      <th>SFRatio</th>\n",
       "      <th>Expenses</th>\n",
       "      <th>GradRate</th>\n",
       "    </tr>\n",
       "  </thead>\n",
       "  <tbody>\n",
       "    <tr>\n",
       "      <th>0</th>\n",
       "      <td>1310.0</td>\n",
       "      <td>89</td>\n",
       "      <td>22</td>\n",
       "      <td>13.0</td>\n",
       "      <td>22704</td>\n",
       "      <td>94.0</td>\n",
       "    </tr>\n",
       "    <tr>\n",
       "      <th>1</th>\n",
       "      <td>1415.0</td>\n",
       "      <td>100</td>\n",
       "      <td>25</td>\n",
       "      <td>6.0</td>\n",
       "      <td>63575</td>\n",
       "      <td>81.0</td>\n",
       "    </tr>\n",
       "    <tr>\n",
       "      <th>2</th>\n",
       "      <td>1260.0</td>\n",
       "      <td>62</td>\n",
       "      <td>59</td>\n",
       "      <td>9.0</td>\n",
       "      <td>25026</td>\n",
       "      <td>72.0</td>\n",
       "    </tr>\n",
       "    <tr>\n",
       "      <th>3</th>\n",
       "      <td>1310.0</td>\n",
       "      <td>76</td>\n",
       "      <td>24</td>\n",
       "      <td>12.0</td>\n",
       "      <td>31510</td>\n",
       "      <td>90.0</td>\n",
       "    </tr>\n",
       "    <tr>\n",
       "      <th>4</th>\n",
       "      <td>1280.0</td>\n",
       "      <td>83</td>\n",
       "      <td>33</td>\n",
       "      <td>13.0</td>\n",
       "      <td>21864</td>\n",
       "      <td>90.0</td>\n",
       "    </tr>\n",
       "  </tbody>\n",
       "</table>\n",
       "</div>"
      ],
      "text/plain": [
       "      SAT  Top10  Accept  SFRatio  Expenses  GradRate\n",
       "0  1310.0     89      22     13.0     22704      94.0\n",
       "1  1415.0    100      25      6.0     63575      81.0\n",
       "2  1260.0     62      59      9.0     25026      72.0\n",
       "3  1310.0     76      24     12.0     31510      90.0\n",
       "4  1280.0     83      33     13.0     21864      90.0"
      ]
     },
     "execution_count": 142,
     "metadata": {},
     "output_type": "execute_result"
    }
   ],
   "source": [
    "data_cat = data.iloc[:,:2]\n",
    "data_num = data.iloc[:,2:]\n",
    "data_num.head()"
   ]
  },
  {
   "cell_type": "code",
   "execution_count": 143,
   "id": "fbda9bbc",
   "metadata": {},
   "outputs": [
    {
     "data": {
      "text/html": [
       "<div>\n",
       "<style scoped>\n",
       "    .dataframe tbody tr th:only-of-type {\n",
       "        vertical-align: middle;\n",
       "    }\n",
       "\n",
       "    .dataframe tbody tr th {\n",
       "        vertical-align: top;\n",
       "    }\n",
       "\n",
       "    .dataframe thead th {\n",
       "        text-align: right;\n",
       "    }\n",
       "</style>\n",
       "<table border=\"1\" class=\"dataframe\">\n",
       "  <thead>\n",
       "    <tr style=\"text-align: right;\">\n",
       "      <th></th>\n",
       "      <th>Univ</th>\n",
       "      <th>State</th>\n",
       "    </tr>\n",
       "  </thead>\n",
       "  <tbody>\n",
       "    <tr>\n",
       "      <th>0</th>\n",
       "      <td>Brown</td>\n",
       "      <td>RI</td>\n",
       "    </tr>\n",
       "    <tr>\n",
       "      <th>1</th>\n",
       "      <td>CalTech</td>\n",
       "      <td>CA</td>\n",
       "    </tr>\n",
       "    <tr>\n",
       "      <th>2</th>\n",
       "      <td>CMU</td>\n",
       "      <td>PA</td>\n",
       "    </tr>\n",
       "    <tr>\n",
       "      <th>3</th>\n",
       "      <td>Columbia</td>\n",
       "      <td>NY</td>\n",
       "    </tr>\n",
       "    <tr>\n",
       "      <th>4</th>\n",
       "      <td>Cornell</td>\n",
       "      <td>NY</td>\n",
       "    </tr>\n",
       "  </tbody>\n",
       "</table>\n",
       "</div>"
      ],
      "text/plain": [
       "       Univ State\n",
       "0     Brown    RI\n",
       "1   CalTech    CA\n",
       "2       CMU    PA\n",
       "3  Columbia    NY\n",
       "4   Cornell    NY"
      ]
     },
     "execution_count": 143,
     "metadata": {},
     "output_type": "execute_result"
    }
   ],
   "source": [
    "data_cat.head()"
   ]
  },
  {
   "cell_type": "code",
   "execution_count": 144,
   "id": "d2ca755a",
   "metadata": {},
   "outputs": [
    {
     "data": {
      "image/png": "[encoded data removed]",
      "text/plain": [
       "<Figure size 1000x600 with 6 Axes>"
      ]
     },
     "metadata": {},
     "output_type": "display_data"
    }
   ],
   "source": [
    "#Boxplot\n",
    "data_num.plot(kind = 'box', subplots = True, sharey = False, figsize= (10,6))\n",
    "plt.subplots_adjust(wspace = .75)\n",
    "plt.show()"
   ]
  },
  {
   "cell_type": "code",
   "execution_count": 145,
   "id": "49bbc888",
   "metadata": {},
   "outputs": [
    {
     "name": "stderr",
     "output_type": "stream",
     "text": [
      "C:\\Users\\divya\\anaconda3\\lib\\site-packages\\seaborn\\_decorators.py:36: FutureWarning: Pass the following variable as a keyword arg: x. From version 0.12, the only valid positional argument will be `data`, and passing other arguments without an explicit keyword will result in an error or misinterpretation.\n",
      "  warnings.warn(\n"
     ]
    },
    {
     "data": {
      "image/png": "[encoded data removed]",
      "text/plain": [
       "<Figure size 640x480 with 1 Axes>"
      ]
     },
     "metadata": {},
     "output_type": "display_data"
    },
    {
     "name": "stderr",
     "output_type": "stream",
     "text": [
      "C:\\Users\\divya\\anaconda3\\lib\\site-packages\\seaborn\\_decorators.py:36: FutureWarning: Pass the following variable as a keyword arg: x. From version 0.12, the only valid positional argument will be `data`, and passing other arguments without an explicit keyword will result in an error or misinterpretation.\n",
      "  warnings.warn(\n"
     ]
    },
    {
     "data": {
      "image/png": "[encoded data removed]",
      "text/plain": [
       "<Figure size 640x480 with 1 Axes>"
      ]
     },
     "metadata": {},
     "output_type": "display_data"
    },
    {
     "name": "stderr",
     "output_type": "stream",
     "text": [
      "C:\\Users\\divya\\anaconda3\\lib\\site-packages\\seaborn\\_decorators.py:36: FutureWarning: Pass the following variable as a keyword arg: x. From version 0.12, the only valid positional argument will be `data`, and passing other arguments without an explicit keyword will result in an error or misinterpretation.\n",
      "  warnings.warn(\n"
     ]
    },
    {
     "data": {
      "image/png": "[encoded data removed]",
      "text/plain": [
       "<Figure size 640x480 with 1 Axes>"
      ]
     },
     "metadata": {},
     "output_type": "display_data"
    },
    {
     "name": "stderr",
     "output_type": "stream",
     "text": [
      "C:\\Users\\divya\\anaconda3\\lib\\site-packages\\seaborn\\_decorators.py:36: FutureWarning: Pass the following variable as a keyword arg: x. From version 0.12, the only valid positional argument will be `data`, and passing other arguments without an explicit keyword will result in an error or misinterpretation.\n",
      "  warnings.warn(\n"
     ]
    },
    {
     "data": {
      "image/png": "[encoded data removed]",
      "text/plain": [
       "<Figure size 640x480 with 1 Axes>"
      ]
     },
     "metadata": {},
     "output_type": "display_data"
    }
   ],
   "source": [
    "variables = ['SAT', 'Top10', 'Accept', 'SFRatio']\n",
    "for vari in variables:\n",
    "    winsor = Winsorizer(capping_method = 'iqr', tail = 'both', fold = 1.5, variables = [vari])\n",
    "    data_num[vari] = winsor.fit_transform(data_num[[vari]])\n",
    "    sns.boxplot(data_num[vari])\n",
    "    plt.title(\"Boxplot\")\n",
    "    plt.show()\n",
    "    "
   ]
  },
  {
   "cell_type": "code",
   "execution_count": 146,
   "id": "468a7a53",
   "metadata": {},
   "outputs": [
    {
     "data": {
      "image/png": "[encoded data removed]",
      "text/plain": [
       "<Figure size 1000x600 with 6 Axes>"
      ]
     },
     "metadata": {},
     "output_type": "display_data"
    }
   ],
   "source": [
    "data_num.plot(kind = 'box', subplots = True, sharey = False, figsize = (10,6))   \n",
    "plt.subplots_adjust(wspace = .75)"
   ]
  },
  {
   "cell_type": "code",
   "execution_count": 147,
   "id": "4a2c7aad",
   "metadata": {},
   "outputs": [
    {
     "data": {
      "text/plain": [
       "SAT         9.718958e+03\n",
       "Top10       2.446267e+02\n",
       "Accept      3.849733e+02\n",
       "SFRatio     1.105111e+01\n",
       "Expenses    2.080773e+08\n",
       "GradRate    8.241667e+01\n",
       "dtype: float64"
      ]
     },
     "execution_count": 147,
     "metadata": {},
     "output_type": "execute_result"
    }
   ],
   "source": [
    "data_num.var()   #checking for zero or near zero variance"
   ]
  },
  {
   "cell_type": "code",
   "execution_count": null,
   "id": "976db555",
   "metadata": {},
   "outputs": [],
   "source": [
    "#Applying onehot encoding on State column"
   ]
  },
  {
   "cell_type": "code",
   "execution_count": 148,
   "id": "2efdf33b",
   "metadata": {},
   "outputs": [],
   "source": [
    "data_cat = pd.get_dummies(data_cat, columns = ['State'], drop_first = True)"
   ]
  },
  {
   "cell_type": "code",
   "execution_count": 149,
   "id": "f81269c2",
   "metadata": {
    "scrolled": true
   },
   "outputs": [
    {
     "data": {
      "text/html": [
       "<div>\n",
       "<style scoped>\n",
       "    .dataframe tbody tr th:only-of-type {\n",
       "        vertical-align: middle;\n",
       "    }\n",
       "\n",
       "    .dataframe tbody tr th {\n",
       "        vertical-align: top;\n",
       "    }\n",
       "\n",
       "    .dataframe thead th {\n",
       "        text-align: right;\n",
       "    }\n",
       "</style>\n",
       "<table border=\"1\" class=\"dataframe\">\n",
       "  <thead>\n",
       "    <tr style=\"text-align: right;\">\n",
       "      <th></th>\n",
       "      <th>Univ</th>\n",
       "      <th>State_CT</th>\n",
       "      <th>State_DC</th>\n",
       "      <th>State_IL</th>\n",
       "      <th>State_IN</th>\n",
       "      <th>State_MA</th>\n",
       "      <th>State_MD</th>\n",
       "      <th>State_MI</th>\n",
       "      <th>State_NC</th>\n",
       "      <th>State_NH</th>\n",
       "      <th>State_NJ</th>\n",
       "      <th>State_NY</th>\n",
       "      <th>State_PA</th>\n",
       "      <th>State_RI</th>\n",
       "      <th>State_TX</th>\n",
       "      <th>State_VA</th>\n",
       "      <th>State_WI</th>\n",
       "    </tr>\n",
       "  </thead>\n",
       "  <tbody>\n",
       "    <tr>\n",
       "      <th>0</th>\n",
       "      <td>Brown</td>\n",
       "      <td>0</td>\n",
       "      <td>0</td>\n",
       "      <td>0</td>\n",
       "      <td>0</td>\n",
       "      <td>0</td>\n",
       "      <td>0</td>\n",
       "      <td>0</td>\n",
       "      <td>0</td>\n",
       "      <td>0</td>\n",
       "      <td>0</td>\n",
       "      <td>0</td>\n",
       "      <td>0</td>\n",
       "      <td>1</td>\n",
       "      <td>0</td>\n",
       "      <td>0</td>\n",
       "      <td>0</td>\n",
       "    </tr>\n",
       "    <tr>\n",
       "      <th>1</th>\n",
       "      <td>CalTech</td>\n",
       "      <td>0</td>\n",
       "      <td>0</td>\n",
       "      <td>0</td>\n",
       "      <td>0</td>\n",
       "      <td>0</td>\n",
       "      <td>0</td>\n",
       "      <td>0</td>\n",
       "      <td>0</td>\n",
       "      <td>0</td>\n",
       "      <td>0</td>\n",
       "      <td>0</td>\n",
       "      <td>0</td>\n",
       "      <td>0</td>\n",
       "      <td>0</td>\n",
       "      <td>0</td>\n",
       "      <td>0</td>\n",
       "    </tr>\n",
       "    <tr>\n",
       "      <th>2</th>\n",
       "      <td>CMU</td>\n",
       "      <td>0</td>\n",
       "      <td>0</td>\n",
       "      <td>0</td>\n",
       "      <td>0</td>\n",
       "      <td>0</td>\n",
       "      <td>0</td>\n",
       "      <td>0</td>\n",
       "      <td>0</td>\n",
       "      <td>0</td>\n",
       "      <td>0</td>\n",
       "      <td>0</td>\n",
       "      <td>1</td>\n",
       "      <td>0</td>\n",
       "      <td>0</td>\n",
       "      <td>0</td>\n",
       "      <td>0</td>\n",
       "    </tr>\n",
       "    <tr>\n",
       "      <th>3</th>\n",
       "      <td>Columbia</td>\n",
       "      <td>0</td>\n",
       "      <td>0</td>\n",
       "      <td>0</td>\n",
       "      <td>0</td>\n",
       "      <td>0</td>\n",
       "      <td>0</td>\n",
       "      <td>0</td>\n",
       "      <td>0</td>\n",
       "      <td>0</td>\n",
       "      <td>0</td>\n",
       "      <td>1</td>\n",
       "      <td>0</td>\n",
       "      <td>0</td>\n",
       "      <td>0</td>\n",
       "      <td>0</td>\n",
       "      <td>0</td>\n",
       "    </tr>\n",
       "    <tr>\n",
       "      <th>4</th>\n",
       "      <td>Cornell</td>\n",
       "      <td>0</td>\n",
       "      <td>0</td>\n",
       "      <td>0</td>\n",
       "      <td>0</td>\n",
       "      <td>0</td>\n",
       "      <td>0</td>\n",
       "      <td>0</td>\n",
       "      <td>0</td>\n",
       "      <td>0</td>\n",
       "      <td>0</td>\n",
       "      <td>1</td>\n",
       "      <td>0</td>\n",
       "      <td>0</td>\n",
       "      <td>0</td>\n",
       "      <td>0</td>\n",
       "      <td>0</td>\n",
       "    </tr>\n",
       "  </tbody>\n",
       "</table>\n",
       "</div>"
      ],
      "text/plain": [
       "       Univ  State_CT  State_DC  State_IL  State_IN  State_MA  State_MD  \\\n",
       "0     Brown         0         0         0         0         0         0   \n",
       "1   CalTech         0         0         0         0         0         0   \n",
       "2       CMU         0         0         0         0         0         0   \n",
       "3  Columbia         0         0         0         0         0         0   \n",
       "4   Cornell         0         0         0         0         0         0   \n",
       "\n",
       "   State_MI  State_NC  State_NH  State_NJ  State_NY  State_PA  State_RI  \\\n",
       "0         0         0         0         0         0         0         1   \n",
       "1         0         0         0         0         0         0         0   \n",
       "2         0         0         0         0         0         1         0   \n",
       "3         0         0         0         0         1         0         0   \n",
       "4         0         0         0         0         1         0         0   \n",
       "\n",
       "   State_TX  State_VA  State_WI  \n",
       "0         0         0         0  \n",
       "1         0         0         0  \n",
       "2         0         0         0  \n",
       "3         0         0         0  \n",
       "4         0         0         0  "
      ]
     },
     "execution_count": 149,
     "metadata": {},
     "output_type": "execute_result"
    }
   ],
   "source": [
    "data_cat.head()"
   ]
  },
  {
   "cell_type": "code",
   "execution_count": 150,
   "id": "c7d1e064",
   "metadata": {},
   "outputs": [
    {
     "data": {
      "text/plain": [
       "Index(['SAT', 'Top10', 'Accept', 'SFRatio', 'Expenses', 'GradRate'], dtype='object')"
      ]
     },
     "execution_count": 150,
     "metadata": {},
     "output_type": "execute_result"
    }
   ],
   "source": [
    "data_num.columns"
   ]
  },
  {
   "cell_type": "code",
   "execution_count": 151,
   "id": "18d52e1c",
   "metadata": {
    "scrolled": false
   },
   "outputs": [
    {
     "data": {
      "image/png": "[encoded data removed]",
      "text/plain": [
       "<Figure size 640x480 with 1 Axes>"
      ]
     },
     "metadata": {},
     "output_type": "display_data"
    },
    {
     "data": {
      "image/png": "[encoded data removed]",
      "text/plain": [
       "<Figure size 640x480 with 1 Axes>"
      ]
     },
     "metadata": {},
     "output_type": "display_data"
    },
    {
     "data": {
      "image/png": "[encoded data removed]",
      "text/plain": [
       "<Figure size 640x480 with 1 Axes>"
      ]
     },
     "metadata": {},
     "output_type": "display_data"
    },
    {
     "data": {
      "image/png": "[encoded data removed]",
      "text/plain": [
       "<Figure size 640x480 with 1 Axes>"
      ]
     },
     "metadata": {},
     "output_type": "display_data"
    },
    {
     "data": {
      "image/png": "[encoded data removed]",
      "text/plain": [
       "<Figure size 640x480 with 1 Axes>"
      ]
     },
     "metadata": {},
     "output_type": "display_data"
    },
    {
     "data": {
      "image/png": "[encoded data removed]",
      "text/plain": [
       "<Figure size 640x480 with 1 Axes>"
      ]
     },
     "metadata": {},
     "output_type": "display_data"
    }
   ],
   "source": [
    "#histogram\n",
    "for col in data_num.columns:\n",
    "    plt.hist(data_num[col])\n",
    "    plt.title('Histpgram of'+ str(col))\n",
    "    plt.show()"
   ]
  },
  {
   "cell_type": "code",
   "execution_count": 152,
   "id": "01414b98",
   "metadata": {},
   "outputs": [
    {
     "data": {
      "text/plain": [
       "((array([-1.9213301 , -1.50368257, -1.24941883, -1.0573306 , -0.897955  ,\n",
       "         -0.75865603, -0.63273432, -0.51614096, -0.40618759, -0.30094875,\n",
       "         -0.19894932, -0.09898372,  0.        ,  0.09898372,  0.19894932,\n",
       "          0.30094875,  0.40618759,  0.51614096,  0.63273432,  0.75865603,\n",
       "          0.897955  ,  1.0573306 ,  1.24941883,  1.50368257,  1.9213301 ]),\n",
       "  array([1090.        , 1090.        , 1090.        , 1090.        ,\n",
       "         1180.        , 1225.        , 1240.        , 1255.        ,\n",
       "         1260.        , 1260.        , 1266.91666667, 1280.        ,\n",
       "         1285.        , 1290.        , 1305.        , 1310.        ,\n",
       "         1310.        , 1315.        , 1340.        , 1360.        ,\n",
       "         1375.        , 1375.        , 1380.        , 1400.        ,\n",
       "         1415.        ])),\n",
       " (98.76659036154761, 1271.4766666666667, 0.9585447047103506))"
      ]
     },
     "execution_count": 152,
     "metadata": {},
     "output_type": "execute_result"
    },
    {
     "data": {
      "image/png": "[encoded data removed]",
      "text/plain": [
       "<Figure size 640x480 with 1 Axes>"
      ]
     },
     "metadata": {},
     "output_type": "display_data"
    }
   ],
   "source": [
    "#Normal Quantile Quantile Plot\n",
    "\n",
    "stats.probplot(data_num['SAT'], dist = 'norm', plot = pylab)"
   ]
  },
  {
   "cell_type": "code",
   "execution_count": 153,
   "id": "afb1bb3c",
   "metadata": {},
   "outputs": [
    {
     "data": {
      "text/plain": [
       "((array([-1.9213301 , -1.50368257, -1.24941883, -1.0573306 , -0.897955  ,\n",
       "         -0.75865603, -0.63273432, -0.51614096, -0.40618759, -0.30094875,\n",
       "         -0.19894932, -0.09898372,  0.        ,  0.09898372,  0.19894932,\n",
       "          0.30094875,  0.40618759,  0.51614096,  0.63273432,  0.75865603,\n",
       "          0.897955  ,  1.0573306 ,  1.24941883,  1.50368257,  1.9213301 ]),\n",
       "  array([ 50.,  50.,  50.,  50.,  62.,  65.,  74.,  75.,  75.,  76.,  77.,\n",
       "          80.,  81.,  83.,  85.,  89.,  89.,  90.,  90.,  91.,  91.,  94.,\n",
       "          95.,  95., 100.])),\n",
       " (15.548174662321594, 78.28, 0.9511295549439859))"
      ]
     },
     "execution_count": 153,
     "metadata": {},
     "output_type": "execute_result"
    },
    {
     "data": {
      "image/png": "[encoded data removed]",
      "text/plain": [
       "<Figure size 640x480 with 1 Axes>"
      ]
     },
     "metadata": {},
     "output_type": "display_data"
    }
   ],
   "source": [
    "stats.probplot(data_num['Top10'], dist = 'norm', plot = pylab)"
   ]
  },
  {
   "cell_type": "code",
   "execution_count": 154,
   "id": "3125421b",
   "metadata": {},
   "outputs": [
    {
     "data": {
      "text/plain": [
       "((array([-1.9213301 , -1.50368257, -1.24941883, -1.0573306 , -0.897955  ,\n",
       "         -0.75865603, -0.63273432, -0.51614096, -0.40618759, -0.30094875,\n",
       "         -0.19894932, -0.09898372,  0.        ,  0.09898372,  0.19894932,\n",
       "          0.30094875,  0.40618759,  0.51614096,  0.63273432,  0.75865603,\n",
       "          0.897955  ,  1.0573306 ,  1.24941883,  1.50368257,  1.9213301 ]),\n",
       "  array([14., 14., 19., 20., 22., 23., 24., 24., 25., 30., 30., 33., 36.,\n",
       "         39., 40., 42., 44., 44., 50., 54., 59., 67., 68., 69., 89.])),\n",
       " (19.80617941670123, 39.16, 0.9658230149511988))"
      ]
     },
     "execution_count": 154,
     "metadata": {},
     "output_type": "execute_result"
    },
    {
     "data": {
      "image/png": "[encoded data removed]",
      "text/plain": [
       "<Figure size 640x480 with 1 Axes>"
      ]
     },
     "metadata": {},
     "output_type": "display_data"
    }
   ],
   "source": [
    "stats.probplot(data_num['Accept'], dist = 'norm', plot = pylab)"
   ]
  },
  {
   "cell_type": "code",
   "execution_count": 155,
   "id": "c32edecf",
   "metadata": {},
   "outputs": [
    {
     "data": {
      "text/plain": [
       "((array([-1.9213301 , -1.50368257, -1.24941883, -1.0573306 , -0.897955  ,\n",
       "         -0.75865603, -0.63273432, -0.51614096, -0.40618759, -0.30094875,\n",
       "         -0.19894932, -0.09898372,  0.        ,  0.09898372,  0.19894932,\n",
       "          0.30094875,  0.40618759,  0.51614096,  0.63273432,  0.75865603,\n",
       "          0.897955  ,  1.0573306 ,  1.24941883,  1.50368257,  1.9213301 ]),\n",
       "  array([ 6.5       ,  7.        ,  8.        ,  9.        , 10.        ,\n",
       "         10.        , 11.        , 11.        , 11.        , 11.        ,\n",
       "         12.        , 12.        , 12.        , 12.        , 12.70833333,\n",
       "         13.        , 13.        , 13.        , 14.        , 15.        ,\n",
       "         16.        , 17.        , 18.        , 18.5       , 18.5       ])),\n",
       " (3.4122385959318278, 12.448333333333334, 0.9820838816626102))"
      ]
     },
     "execution_count": 155,
     "metadata": {},
     "output_type": "execute_result"
    },
    {
     "data": {
      "image/png": "[encoded data removed]",
      "text/plain": [
       "<Figure size 640x480 with 1 Axes>"
      ]
     },
     "metadata": {},
     "output_type": "display_data"
    }
   ],
   "source": [
    "stats.probplot(data_num['SFRatio'], dist = 'norm', plot = pylab)"
   ]
  },
  {
   "cell_type": "code",
   "execution_count": 156,
   "id": "6671526a",
   "metadata": {},
   "outputs": [
    {
     "data": {
      "text/plain": [
       "((array([-1.9213301 , -1.50368257, -1.24941883, -1.0573306 , -0.897955  ,\n",
       "         -0.75865603, -0.63273432, -0.51614096, -0.40618759, -0.30094875,\n",
       "         -0.19894932, -0.09898372,  0.        ,  0.09898372,  0.19894932,\n",
       "          0.30094875,  0.40618759,  0.51614096,  0.63273432,  0.75865603,\n",
       "          0.897955  ,  1.0573306 ,  1.24941883,  1.50368257,  1.9213301 ]),\n",
       "  array([ 8704,  9066, 10185, 11857, 13349, 15122, 15140, 15470, 20126,\n",
       "         21864, 22704, 25026, 27553, 28052, 30220, 31510, 31585, 32162,\n",
       "         34870, 36450, 38380, 39525, 43514, 58691, 63575], dtype=int64)),\n",
       " (14567.431669324988, 27387.999999999996, 0.9662351902369902))"
      ]
     },
     "execution_count": 156,
     "metadata": {},
     "output_type": "execute_result"
    },
    {
     "data": {
      "image/png": "[encoded data removed]",
      "text/plain": [
       "<Figure size 640x480 with 1 Axes>"
      ]
     },
     "metadata": {},
     "output_type": "display_data"
    }
   ],
   "source": [
    "stats.probplot(data_num['Expenses'], dist = 'norm', plot = pylab)"
   ]
  },
  {
   "cell_type": "code",
   "execution_count": 157,
   "id": "c947a1bb",
   "metadata": {},
   "outputs": [
    {
     "data": {
      "text/plain": [
       "((array([-1.9213301 , -1.50368257, -1.24941883, -1.0573306 , -0.897955  ,\n",
       "         -0.75865603, -0.63273432, -0.51614096, -0.40618759, -0.30094875,\n",
       "         -0.19894932, -0.09898372,  0.        ,  0.09898372,  0.19894932,\n",
       "          0.30094875,  0.40618759,  0.51614096,  0.63273432,  0.75865603,\n",
       "          0.897955  ,  1.0573306 ,  1.24941883,  1.50368257,  1.9213301 ]),\n",
       "  array([67., 69., 71., 72., 78., 80., 81., 85., 87., 87., 89., 90., 90.,\n",
       "         90., 91., 92., 92., 93., 94., 94., 95., 95., 95., 96., 97.])),\n",
       " (8.862821523733807, 86.8, 0.9340640254803643))"
      ]
     },
     "execution_count": 157,
     "metadata": {},
     "output_type": "execute_result"
    },
    {
     "data": {
      "image/png": "[encoded data removed]",
      "text/plain": [
       "<Figure size 640x480 with 1 Axes>"
      ]
     },
     "metadata": {},
     "output_type": "display_data"
    }
   ],
   "source": [
    "stats.probplot(data_num['GradRate'], dist = 'norm', plot = pylab)"
   ]
  },
  {
   "cell_type": "code",
   "execution_count": 158,
   "id": "a7f9f93f",
   "metadata": {},
   "outputs": [
    {
     "data": {
      "text/html": [
       "<div>\n",
       "<style scoped>\n",
       "    .dataframe tbody tr th:only-of-type {\n",
       "        vertical-align: middle;\n",
       "    }\n",
       "\n",
       "    .dataframe tbody tr th {\n",
       "        vertical-align: top;\n",
       "    }\n",
       "\n",
       "    .dataframe thead th {\n",
       "        text-align: right;\n",
       "    }\n",
       "</style>\n",
       "<table border=\"1\" class=\"dataframe\">\n",
       "  <thead>\n",
       "    <tr style=\"text-align: right;\">\n",
       "      <th></th>\n",
       "      <th>Univ</th>\n",
       "      <th>State_CT</th>\n",
       "      <th>State_DC</th>\n",
       "      <th>State_IL</th>\n",
       "      <th>State_IN</th>\n",
       "      <th>State_MA</th>\n",
       "      <th>State_MD</th>\n",
       "      <th>State_MI</th>\n",
       "      <th>State_NC</th>\n",
       "      <th>State_NH</th>\n",
       "      <th>...</th>\n",
       "      <th>State_RI</th>\n",
       "      <th>State_TX</th>\n",
       "      <th>State_VA</th>\n",
       "      <th>State_WI</th>\n",
       "      <th>SAT</th>\n",
       "      <th>Top10</th>\n",
       "      <th>Accept</th>\n",
       "      <th>SFRatio</th>\n",
       "      <th>Expenses</th>\n",
       "      <th>GradRate</th>\n",
       "    </tr>\n",
       "  </thead>\n",
       "  <tbody>\n",
       "    <tr>\n",
       "      <th>0</th>\n",
       "      <td>Brown</td>\n",
       "      <td>0</td>\n",
       "      <td>0</td>\n",
       "      <td>0</td>\n",
       "      <td>0</td>\n",
       "      <td>0</td>\n",
       "      <td>0</td>\n",
       "      <td>0</td>\n",
       "      <td>0</td>\n",
       "      <td>0</td>\n",
       "      <td>...</td>\n",
       "      <td>1</td>\n",
       "      <td>0</td>\n",
       "      <td>0</td>\n",
       "      <td>0</td>\n",
       "      <td>1310.0</td>\n",
       "      <td>89.0</td>\n",
       "      <td>22.0</td>\n",
       "      <td>13.0</td>\n",
       "      <td>22704</td>\n",
       "      <td>94.0</td>\n",
       "    </tr>\n",
       "    <tr>\n",
       "      <th>1</th>\n",
       "      <td>CalTech</td>\n",
       "      <td>0</td>\n",
       "      <td>0</td>\n",
       "      <td>0</td>\n",
       "      <td>0</td>\n",
       "      <td>0</td>\n",
       "      <td>0</td>\n",
       "      <td>0</td>\n",
       "      <td>0</td>\n",
       "      <td>0</td>\n",
       "      <td>...</td>\n",
       "      <td>0</td>\n",
       "      <td>0</td>\n",
       "      <td>0</td>\n",
       "      <td>0</td>\n",
       "      <td>1415.0</td>\n",
       "      <td>100.0</td>\n",
       "      <td>25.0</td>\n",
       "      <td>6.5</td>\n",
       "      <td>63575</td>\n",
       "      <td>81.0</td>\n",
       "    </tr>\n",
       "    <tr>\n",
       "      <th>2</th>\n",
       "      <td>CMU</td>\n",
       "      <td>0</td>\n",
       "      <td>0</td>\n",
       "      <td>0</td>\n",
       "      <td>0</td>\n",
       "      <td>0</td>\n",
       "      <td>0</td>\n",
       "      <td>0</td>\n",
       "      <td>0</td>\n",
       "      <td>0</td>\n",
       "      <td>...</td>\n",
       "      <td>0</td>\n",
       "      <td>0</td>\n",
       "      <td>0</td>\n",
       "      <td>0</td>\n",
       "      <td>1260.0</td>\n",
       "      <td>62.0</td>\n",
       "      <td>59.0</td>\n",
       "      <td>9.0</td>\n",
       "      <td>25026</td>\n",
       "      <td>72.0</td>\n",
       "    </tr>\n",
       "    <tr>\n",
       "      <th>3</th>\n",
       "      <td>Columbia</td>\n",
       "      <td>0</td>\n",
       "      <td>0</td>\n",
       "      <td>0</td>\n",
       "      <td>0</td>\n",
       "      <td>0</td>\n",
       "      <td>0</td>\n",
       "      <td>0</td>\n",
       "      <td>0</td>\n",
       "      <td>0</td>\n",
       "      <td>...</td>\n",
       "      <td>0</td>\n",
       "      <td>0</td>\n",
       "      <td>0</td>\n",
       "      <td>0</td>\n",
       "      <td>1310.0</td>\n",
       "      <td>76.0</td>\n",
       "      <td>24.0</td>\n",
       "      <td>12.0</td>\n",
       "      <td>31510</td>\n",
       "      <td>90.0</td>\n",
       "    </tr>\n",
       "    <tr>\n",
       "      <th>4</th>\n",
       "      <td>Cornell</td>\n",
       "      <td>0</td>\n",
       "      <td>0</td>\n",
       "      <td>0</td>\n",
       "      <td>0</td>\n",
       "      <td>0</td>\n",
       "      <td>0</td>\n",
       "      <td>0</td>\n",
       "      <td>0</td>\n",
       "      <td>0</td>\n",
       "      <td>...</td>\n",
       "      <td>0</td>\n",
       "      <td>0</td>\n",
       "      <td>0</td>\n",
       "      <td>0</td>\n",
       "      <td>1280.0</td>\n",
       "      <td>83.0</td>\n",
       "      <td>33.0</td>\n",
       "      <td>13.0</td>\n",
       "      <td>21864</td>\n",
       "      <td>90.0</td>\n",
       "    </tr>\n",
       "  </tbody>\n",
       "</table>\n",
       "<p>5 rows × 23 columns</p>\n",
       "</div>"
      ],
      "text/plain": [
       "       Univ  State_CT  State_DC  State_IL  State_IN  State_MA  State_MD  \\\n",
       "0     Brown         0         0         0         0         0         0   \n",
       "1   CalTech         0         0         0         0         0         0   \n",
       "2       CMU         0         0         0         0         0         0   \n",
       "3  Columbia         0         0         0         0         0         0   \n",
       "4   Cornell         0         0         0         0         0         0   \n",
       "\n",
       "   State_MI  State_NC  State_NH  ...  State_RI  State_TX  State_VA  State_WI  \\\n",
       "0         0         0         0  ...         1         0         0         0   \n",
       "1         0         0         0  ...         0         0         0         0   \n",
       "2         0         0         0  ...         0         0         0         0   \n",
       "3         0         0         0  ...         0         0         0         0   \n",
       "4         0         0         0  ...         0         0         0         0   \n",
       "\n",
       "      SAT  Top10  Accept  SFRatio  Expenses  GradRate  \n",
       "0  1310.0   89.0    22.0     13.0     22704      94.0  \n",
       "1  1415.0  100.0    25.0      6.5     63575      81.0  \n",
       "2  1260.0   62.0    59.0      9.0     25026      72.0  \n",
       "3  1310.0   76.0    24.0     12.0     31510      90.0  \n",
       "4  1280.0   83.0    33.0     13.0     21864      90.0  \n",
       "\n",
       "[5 rows x 23 columns]"
      ]
     },
     "execution_count": 158,
     "metadata": {},
     "output_type": "execute_result"
    }
   ],
   "source": [
    "#concatenate entire data\n",
    "\n",
    "data1 = pd.concat([data_cat,data_num], axis =1)\n",
    "data1.head()"
   ]
  },
  {
   "cell_type": "code",
   "execution_count": 159,
   "id": "e1589b08",
   "metadata": {},
   "outputs": [
    {
     "name": "stdout",
     "output_type": "stream",
     "text": [
      "<class 'pandas.core.frame.DataFrame'>\n",
      "RangeIndex: 25 entries, 0 to 24\n",
      "Data columns (total 23 columns):\n",
      " #   Column    Non-Null Count  Dtype  \n",
      "---  ------    --------------  -----  \n",
      " 0   Univ      25 non-null     object \n",
      " 1   State_CT  25 non-null     uint8  \n",
      " 2   State_DC  25 non-null     uint8  \n",
      " 3   State_IL  25 non-null     uint8  \n",
      " 4   State_IN  25 non-null     uint8  \n",
      " 5   State_MA  25 non-null     uint8  \n",
      " 6   State_MD  25 non-null     uint8  \n",
      " 7   State_MI  25 non-null     uint8  \n",
      " 8   State_NC  25 non-null     uint8  \n",
      " 9   State_NH  25 non-null     uint8  \n",
      " 10  State_NJ  25 non-null     uint8  \n",
      " 11  State_NY  25 non-null     uint8  \n",
      " 12  State_PA  25 non-null     uint8  \n",
      " 13  State_RI  25 non-null     uint8  \n",
      " 14  State_TX  25 non-null     uint8  \n",
      " 15  State_VA  25 non-null     uint8  \n",
      " 16  State_WI  25 non-null     uint8  \n",
      " 17  SAT       25 non-null     float64\n",
      " 18  Top10     25 non-null     float64\n",
      " 19  Accept    25 non-null     float64\n",
      " 20  SFRatio   25 non-null     float64\n",
      " 21  Expenses  25 non-null     int64  \n",
      " 22  GradRate  25 non-null     float64\n",
      "dtypes: float64(5), int64(1), object(1), uint8(16)\n",
      "memory usage: 1.9+ KB\n"
     ]
    }
   ],
   "source": [
    "data1.info()"
   ]
  },
  {
   "cell_type": "code",
   "execution_count": null,
   "id": "85a59723",
   "metadata": {},
   "outputs": [],
   "source": [
    "#normalization min = 0 and max = 1"
   ]
  },
  {
   "cell_type": "code",
   "execution_count": 162,
   "id": "3522fe52",
   "metadata": {},
   "outputs": [],
   "source": [
    "def norm_func(i):\n",
    "    x = (i - i.min()) / (i.max() - i.min())\n",
    "    return (x)"
   ]
  },
  {
   "cell_type": "code",
   "execution_count": 163,
   "id": "81066712",
   "metadata": {},
   "outputs": [],
   "source": [
    "data_norm = norm_func(data1.iloc[:,1:])"
   ]
  },
  {
   "cell_type": "code",
   "execution_count": 164,
   "id": "d7d6efaf",
   "metadata": {},
   "outputs": [
    {
     "data": {
      "text/html": [
       "<div>\n",
       "<style scoped>\n",
       "    .dataframe tbody tr th:only-of-type {\n",
       "        vertical-align: middle;\n",
       "    }\n",
       "\n",
       "    .dataframe tbody tr th {\n",
       "        vertical-align: top;\n",
       "    }\n",
       "\n",
       "    .dataframe thead th {\n",
       "        text-align: right;\n",
       "    }\n",
       "</style>\n",
       "<table border=\"1\" class=\"dataframe\">\n",
       "  <thead>\n",
       "    <tr style=\"text-align: right;\">\n",
       "      <th></th>\n",
       "      <th>State_CT</th>\n",
       "      <th>State_DC</th>\n",
       "      <th>State_IL</th>\n",
       "      <th>State_IN</th>\n",
       "      <th>State_MA</th>\n",
       "      <th>State_MD</th>\n",
       "      <th>State_MI</th>\n",
       "      <th>State_NC</th>\n",
       "      <th>State_NH</th>\n",
       "      <th>State_NJ</th>\n",
       "      <th>...</th>\n",
       "      <th>State_RI</th>\n",
       "      <th>State_TX</th>\n",
       "      <th>State_VA</th>\n",
       "      <th>State_WI</th>\n",
       "      <th>SAT</th>\n",
       "      <th>Top10</th>\n",
       "      <th>Accept</th>\n",
       "      <th>SFRatio</th>\n",
       "      <th>Expenses</th>\n",
       "      <th>GradRate</th>\n",
       "    </tr>\n",
       "  </thead>\n",
       "  <tbody>\n",
       "    <tr>\n",
       "      <th>count</th>\n",
       "      <td>25.00</td>\n",
       "      <td>25.00</td>\n",
       "      <td>25.000000</td>\n",
       "      <td>25.000000</td>\n",
       "      <td>25.000000</td>\n",
       "      <td>25.00</td>\n",
       "      <td>25.00</td>\n",
       "      <td>25.00</td>\n",
       "      <td>25.00</td>\n",
       "      <td>25.00</td>\n",
       "      <td>...</td>\n",
       "      <td>25.00</td>\n",
       "      <td>25.00</td>\n",
       "      <td>25.00</td>\n",
       "      <td>25.00</td>\n",
       "      <td>25.000000</td>\n",
       "      <td>25.000000</td>\n",
       "      <td>25.000000</td>\n",
       "      <td>25.000000</td>\n",
       "      <td>25.000000</td>\n",
       "      <td>25.000000</td>\n",
       "    </tr>\n",
       "    <tr>\n",
       "      <th>mean</th>\n",
       "      <td>0.04</td>\n",
       "      <td>0.04</td>\n",
       "      <td>0.080000</td>\n",
       "      <td>0.080000</td>\n",
       "      <td>0.080000</td>\n",
       "      <td>0.04</td>\n",
       "      <td>0.04</td>\n",
       "      <td>0.04</td>\n",
       "      <td>0.04</td>\n",
       "      <td>0.04</td>\n",
       "      <td>...</td>\n",
       "      <td>0.04</td>\n",
       "      <td>0.04</td>\n",
       "      <td>0.04</td>\n",
       "      <td>0.04</td>\n",
       "      <td>0.558390</td>\n",
       "      <td>0.565600</td>\n",
       "      <td>0.335467</td>\n",
       "      <td>0.495694</td>\n",
       "      <td>0.340508</td>\n",
       "      <td>0.660000</td>\n",
       "    </tr>\n",
       "    <tr>\n",
       "      <th>std</th>\n",
       "      <td>0.20</td>\n",
       "      <td>0.20</td>\n",
       "      <td>0.276887</td>\n",
       "      <td>0.276887</td>\n",
       "      <td>0.276887</td>\n",
       "      <td>0.20</td>\n",
       "      <td>0.20</td>\n",
       "      <td>0.20</td>\n",
       "      <td>0.20</td>\n",
       "      <td>0.20</td>\n",
       "      <td>...</td>\n",
       "      <td>0.20</td>\n",
       "      <td>0.20</td>\n",
       "      <td>0.20</td>\n",
       "      <td>0.20</td>\n",
       "      <td>0.303338</td>\n",
       "      <td>0.312811</td>\n",
       "      <td>0.261610</td>\n",
       "      <td>0.277027</td>\n",
       "      <td>0.262887</td>\n",
       "      <td>0.302612</td>\n",
       "    </tr>\n",
       "    <tr>\n",
       "      <th>min</th>\n",
       "      <td>0.00</td>\n",
       "      <td>0.00</td>\n",
       "      <td>0.000000</td>\n",
       "      <td>0.000000</td>\n",
       "      <td>0.000000</td>\n",
       "      <td>0.00</td>\n",
       "      <td>0.00</td>\n",
       "      <td>0.00</td>\n",
       "      <td>0.00</td>\n",
       "      <td>0.00</td>\n",
       "      <td>...</td>\n",
       "      <td>0.00</td>\n",
       "      <td>0.00</td>\n",
       "      <td>0.00</td>\n",
       "      <td>0.00</td>\n",
       "      <td>0.000000</td>\n",
       "      <td>0.000000</td>\n",
       "      <td>0.000000</td>\n",
       "      <td>0.000000</td>\n",
       "      <td>0.000000</td>\n",
       "      <td>0.000000</td>\n",
       "    </tr>\n",
       "    <tr>\n",
       "      <th>25%</th>\n",
       "      <td>0.00</td>\n",
       "      <td>0.00</td>\n",
       "      <td>0.000000</td>\n",
       "      <td>0.000000</td>\n",
       "      <td>0.000000</td>\n",
       "      <td>0.00</td>\n",
       "      <td>0.00</td>\n",
       "      <td>0.00</td>\n",
       "      <td>0.00</td>\n",
       "      <td>0.00</td>\n",
       "      <td>...</td>\n",
       "      <td>0.00</td>\n",
       "      <td>0.00</td>\n",
       "      <td>0.00</td>\n",
       "      <td>0.00</td>\n",
       "      <td>0.461538</td>\n",
       "      <td>0.480000</td>\n",
       "      <td>0.133333</td>\n",
       "      <td>0.375000</td>\n",
       "      <td>0.117293</td>\n",
       "      <td>0.466667</td>\n",
       "    </tr>\n",
       "    <tr>\n",
       "      <th>50%</th>\n",
       "      <td>0.00</td>\n",
       "      <td>0.00</td>\n",
       "      <td>0.000000</td>\n",
       "      <td>0.000000</td>\n",
       "      <td>0.000000</td>\n",
       "      <td>0.00</td>\n",
       "      <td>0.00</td>\n",
       "      <td>0.00</td>\n",
       "      <td>0.00</td>\n",
       "      <td>0.00</td>\n",
       "      <td>...</td>\n",
       "      <td>0.00</td>\n",
       "      <td>0.00</td>\n",
       "      <td>0.00</td>\n",
       "      <td>0.00</td>\n",
       "      <td>0.600000</td>\n",
       "      <td>0.620000</td>\n",
       "      <td>0.293333</td>\n",
       "      <td>0.458333</td>\n",
       "      <td>0.343515</td>\n",
       "      <td>0.766667</td>\n",
       "    </tr>\n",
       "    <tr>\n",
       "      <th>75%</th>\n",
       "      <td>0.00</td>\n",
       "      <td>0.00</td>\n",
       "      <td>0.000000</td>\n",
       "      <td>0.000000</td>\n",
       "      <td>0.000000</td>\n",
       "      <td>0.00</td>\n",
       "      <td>0.00</td>\n",
       "      <td>0.00</td>\n",
       "      <td>0.00</td>\n",
       "      <td>0.00</td>\n",
       "      <td>...</td>\n",
       "      <td>0.00</td>\n",
       "      <td>0.00</td>\n",
       "      <td>0.00</td>\n",
       "      <td>0.00</td>\n",
       "      <td>0.769231</td>\n",
       "      <td>0.800000</td>\n",
       "      <td>0.480000</td>\n",
       "      <td>0.625000</td>\n",
       "      <td>0.476864</td>\n",
       "      <td>0.900000</td>\n",
       "    </tr>\n",
       "    <tr>\n",
       "      <th>max</th>\n",
       "      <td>1.00</td>\n",
       "      <td>1.00</td>\n",
       "      <td>1.000000</td>\n",
       "      <td>1.000000</td>\n",
       "      <td>1.000000</td>\n",
       "      <td>1.00</td>\n",
       "      <td>1.00</td>\n",
       "      <td>1.00</td>\n",
       "      <td>1.00</td>\n",
       "      <td>1.00</td>\n",
       "      <td>...</td>\n",
       "      <td>1.00</td>\n",
       "      <td>1.00</td>\n",
       "      <td>1.00</td>\n",
       "      <td>1.00</td>\n",
       "      <td>1.000000</td>\n",
       "      <td>1.000000</td>\n",
       "      <td>1.000000</td>\n",
       "      <td>1.000000</td>\n",
       "      <td>1.000000</td>\n",
       "      <td>1.000000</td>\n",
       "    </tr>\n",
       "  </tbody>\n",
       "</table>\n",
       "<p>8 rows × 22 columns</p>\n",
       "</div>"
      ],
      "text/plain": [
       "       State_CT  State_DC   State_IL   State_IN   State_MA  State_MD  \\\n",
       "count     25.00     25.00  25.000000  25.000000  25.000000     25.00   \n",
       "mean       0.04      0.04   0.080000   0.080000   0.080000      0.04   \n",
       "std        0.20      0.20   0.276887   0.276887   0.276887      0.20   \n",
       "min        0.00      0.00   0.000000   0.000000   0.000000      0.00   \n",
       "25%        0.00      0.00   0.000000   0.000000   0.000000      0.00   \n",
       "50%        0.00      0.00   0.000000   0.000000   0.000000      0.00   \n",
       "75%        0.00      0.00   0.000000   0.000000   0.000000      0.00   \n",
       "max        1.00      1.00   1.000000   1.000000   1.000000      1.00   \n",
       "\n",
       "       State_MI  State_NC  State_NH  State_NJ  ...  State_RI  State_TX  \\\n",
       "count     25.00     25.00     25.00     25.00  ...     25.00     25.00   \n",
       "mean       0.04      0.04      0.04      0.04  ...      0.04      0.04   \n",
       "std        0.20      0.20      0.20      0.20  ...      0.20      0.20   \n",
       "min        0.00      0.00      0.00      0.00  ...      0.00      0.00   \n",
       "25%        0.00      0.00      0.00      0.00  ...      0.00      0.00   \n",
       "50%        0.00      0.00      0.00      0.00  ...      0.00      0.00   \n",
       "75%        0.00      0.00      0.00      0.00  ...      0.00      0.00   \n",
       "max        1.00      1.00      1.00      1.00  ...      1.00      1.00   \n",
       "\n",
       "       State_VA  State_WI        SAT      Top10     Accept    SFRatio  \\\n",
       "count     25.00     25.00  25.000000  25.000000  25.000000  25.000000   \n",
       "mean       0.04      0.04   0.558390   0.565600   0.335467   0.495694   \n",
       "std        0.20      0.20   0.303338   0.312811   0.261610   0.277027   \n",
       "min        0.00      0.00   0.000000   0.000000   0.000000   0.000000   \n",
       "25%        0.00      0.00   0.461538   0.480000   0.133333   0.375000   \n",
       "50%        0.00      0.00   0.600000   0.620000   0.293333   0.458333   \n",
       "75%        0.00      0.00   0.769231   0.800000   0.480000   0.625000   \n",
       "max        1.00      1.00   1.000000   1.000000   1.000000   1.000000   \n",
       "\n",
       "        Expenses   GradRate  \n",
       "count  25.000000  25.000000  \n",
       "mean    0.340508   0.660000  \n",
       "std     0.262887   0.302612  \n",
       "min     0.000000   0.000000  \n",
       "25%     0.117293   0.466667  \n",
       "50%     0.343515   0.766667  \n",
       "75%     0.476864   0.900000  \n",
       "max     1.000000   1.000000  \n",
       "\n",
       "[8 rows x 22 columns]"
      ]
     },
     "execution_count": 164,
     "metadata": {},
     "output_type": "execute_result"
    }
   ],
   "source": [
    "data_norm.describe()"
   ]
  },
  {
   "cell_type": "code",
   "execution_count": null,
   "id": "0b27d4b0",
   "metadata": {},
   "outputs": [],
   "source": [
    "# Hierarchical Clustering - Agglomerative Clustering"
   ]
  },
  {
   "cell_type": "code",
   "execution_count": 171,
   "id": "8cd783fa",
   "metadata": {},
   "outputs": [
    {
     "data": {
      "image/png": "[encoded data removed]",
      "text/plain": [
       "<Figure size 1600x800 with 1 Axes>"
      ]
     },
     "metadata": {},
     "output_type": "display_data"
    }
   ],
   "source": [
    "plt.figure(1, figsize = (16,8))\n",
    "tree_plot = dendrogram(linkage(data_norm, method = 'ward'))"
   ]
  },
  {
   "cell_type": "code",
   "execution_count": null,
   "id": "d725437b",
   "metadata": {},
   "outputs": [],
   "source": [
    "#choosing 3 as clister from above dendrogram"
   ]
  },
  {
   "cell_type": "code",
   "execution_count": 173,
   "id": "aa395d4a",
   "metadata": {},
   "outputs": [],
   "source": [
    "hc1 = AgglomerativeClustering(n_clusters = 3, affinity = 'euclidean', linkage = 'complete')"
   ]
  },
  {
   "cell_type": "code",
   "execution_count": 174,
   "id": "9e7d0fd0",
   "metadata": {},
   "outputs": [
    {
     "data": {
      "text/plain": [
       "array([1, 1, 2, 1, 1, 1, 1, 1, 1, 1, 1, 1, 0, 2, 1, 0, 1, 0, 2, 1, 2, 2,\n",
       "       2, 0, 1], dtype=int64)"
      ]
     },
     "execution_count": 174,
     "metadata": {},
     "output_type": "execute_result"
    }
   ],
   "source": [
    "y_hc1 = hc1.fit_predict(data_norm)\n",
    "y_hc1"
   ]
  },
  {
   "cell_type": "code",
   "execution_count": 175,
   "id": "8d8ea035",
   "metadata": {},
   "outputs": [
    {
     "data": {
      "text/plain": [
       "array([1, 1, 2, 1, 1, 1, 1, 1, 1, 1, 1, 1, 0, 2, 1, 0, 1, 0, 1, 1, 0, 2,\n",
       "       1, 0, 1], dtype=int64)"
      ]
     },
     "execution_count": 175,
     "metadata": {},
     "output_type": "execute_result"
    }
   ],
   "source": [
    "hc2 = AgglomerativeClustering(n_clusters = 3, affinity = 'euclidean', linkage = 'average')\n",
    "y_hc2 = hc2.fit_predict(data_norm)\n",
    "y_hc2"
   ]
  },
  {
   "cell_type": "code",
   "execution_count": 178,
   "id": "142f3b6d",
   "metadata": {},
   "outputs": [
    {
     "data": {
      "text/plain": [
       "array([0, 0, 0, 0, 0, 0, 0, 0, 0, 0, 0, 0, 0, 0, 0, 0, 0, 2, 0, 0, 0, 0,\n",
       "       0, 1, 0], dtype=int64)"
      ]
     },
     "execution_count": 178,
     "metadata": {},
     "output_type": "execute_result"
    }
   ],
   "source": [
    "hc3 = AgglomerativeClustering(n_clusters = 3, affinity = 'euclidean', linkage = 'single')\n",
    "y_hc3 = hc3.fit_predict(data_norm)\n",
    "y_hc3"
   ]
  },
  {
   "cell_type": "code",
   "execution_count": 181,
   "id": "07ccb732",
   "metadata": {},
   "outputs": [
    {
     "data": {
      "text/plain": [
       "array([1, 1, 2, 1, 1, 1, 1, 1, 1, 1, 1, 1, 0, 2, 1, 0, 1, 0, 2, 1, 2, 2,\n",
       "       2, 0, 1], dtype=int64)"
      ]
     },
     "execution_count": 181,
     "metadata": {},
     "output_type": "execute_result"
    }
   ],
   "source": [
    "hc1.labels_  # Refering to the results obtained from linkage = 'complete' method"
   ]
  },
  {
   "cell_type": "code",
   "execution_count": 182,
   "id": "4f9070fe",
   "metadata": {},
   "outputs": [],
   "source": [
    "cluster_labels = pd.Series(hc1.labels_)"
   ]
  },
  {
   "cell_type": "code",
   "execution_count": 183,
   "id": "c88974b5",
   "metadata": {},
   "outputs": [],
   "source": [
    "data['cluster'] = cluster_labels"
   ]
  },
  {
   "cell_type": "code",
   "execution_count": 184,
   "id": "507ee062",
   "metadata": {},
   "outputs": [
    {
     "data": {
      "text/html": [
       "<div>\n",
       "<style scoped>\n",
       "    .dataframe tbody tr th:only-of-type {\n",
       "        vertical-align: middle;\n",
       "    }\n",
       "\n",
       "    .dataframe tbody tr th {\n",
       "        vertical-align: top;\n",
       "    }\n",
       "\n",
       "    .dataframe thead th {\n",
       "        text-align: right;\n",
       "    }\n",
       "</style>\n",
       "<table border=\"1\" class=\"dataframe\">\n",
       "  <thead>\n",
       "    <tr style=\"text-align: right;\">\n",
       "      <th></th>\n",
       "      <th>Univ</th>\n",
       "      <th>State</th>\n",
       "      <th>SAT</th>\n",
       "      <th>Top10</th>\n",
       "      <th>Accept</th>\n",
       "      <th>SFRatio</th>\n",
       "      <th>Expenses</th>\n",
       "      <th>GradRate</th>\n",
       "      <th>cluster</th>\n",
       "    </tr>\n",
       "  </thead>\n",
       "  <tbody>\n",
       "    <tr>\n",
       "      <th>0</th>\n",
       "      <td>Brown</td>\n",
       "      <td>RI</td>\n",
       "      <td>1310.0</td>\n",
       "      <td>89</td>\n",
       "      <td>22</td>\n",
       "      <td>13.0</td>\n",
       "      <td>22704</td>\n",
       "      <td>94.0</td>\n",
       "      <td>1</td>\n",
       "    </tr>\n",
       "    <tr>\n",
       "      <th>1</th>\n",
       "      <td>CalTech</td>\n",
       "      <td>CA</td>\n",
       "      <td>1415.0</td>\n",
       "      <td>100</td>\n",
       "      <td>25</td>\n",
       "      <td>6.0</td>\n",
       "      <td>63575</td>\n",
       "      <td>81.0</td>\n",
       "      <td>1</td>\n",
       "    </tr>\n",
       "    <tr>\n",
       "      <th>2</th>\n",
       "      <td>CMU</td>\n",
       "      <td>PA</td>\n",
       "      <td>1260.0</td>\n",
       "      <td>62</td>\n",
       "      <td>59</td>\n",
       "      <td>9.0</td>\n",
       "      <td>25026</td>\n",
       "      <td>72.0</td>\n",
       "      <td>2</td>\n",
       "    </tr>\n",
       "    <tr>\n",
       "      <th>3</th>\n",
       "      <td>Columbia</td>\n",
       "      <td>NY</td>\n",
       "      <td>1310.0</td>\n",
       "      <td>76</td>\n",
       "      <td>24</td>\n",
       "      <td>12.0</td>\n",
       "      <td>31510</td>\n",
       "      <td>90.0</td>\n",
       "      <td>1</td>\n",
       "    </tr>\n",
       "    <tr>\n",
       "      <th>4</th>\n",
       "      <td>Cornell</td>\n",
       "      <td>NY</td>\n",
       "      <td>1280.0</td>\n",
       "      <td>83</td>\n",
       "      <td>33</td>\n",
       "      <td>13.0</td>\n",
       "      <td>21864</td>\n",
       "      <td>90.0</td>\n",
       "      <td>1</td>\n",
       "    </tr>\n",
       "  </tbody>\n",
       "</table>\n",
       "</div>"
      ],
      "text/plain": [
       "       Univ State     SAT  Top10  Accept  SFRatio  Expenses  GradRate  cluster\n",
       "0     Brown    RI  1310.0     89      22     13.0     22704      94.0        1\n",
       "1   CalTech    CA  1415.0    100      25      6.0     63575      81.0        1\n",
       "2       CMU    PA  1260.0     62      59      9.0     25026      72.0        2\n",
       "3  Columbia    NY  1310.0     76      24     12.0     31510      90.0        1\n",
       "4   Cornell    NY  1280.0     83      33     13.0     21864      90.0        1"
      ]
     },
     "execution_count": 184,
     "metadata": {},
     "output_type": "execute_result"
    }
   ],
   "source": [
    "data.head()"
   ]
  },
  {
   "cell_type": "code",
   "execution_count": 185,
   "id": "b301932e",
   "metadata": {},
   "outputs": [
    {
     "data": {
      "text/html": [
       "<div>\n",
       "<style scoped>\n",
       "    .dataframe tbody tr th:only-of-type {\n",
       "        vertical-align: middle;\n",
       "    }\n",
       "\n",
       "    .dataframe tbody tr th {\n",
       "        vertical-align: top;\n",
       "    }\n",
       "\n",
       "    .dataframe thead th {\n",
       "        text-align: right;\n",
       "    }\n",
       "</style>\n",
       "<table border=\"1\" class=\"dataframe\">\n",
       "  <thead>\n",
       "    <tr style=\"text-align: right;\">\n",
       "      <th></th>\n",
       "      <th>Univ</th>\n",
       "      <th>State</th>\n",
       "      <th>SAT</th>\n",
       "      <th>Top10</th>\n",
       "      <th>Accept</th>\n",
       "      <th>SFRatio</th>\n",
       "      <th>Expenses</th>\n",
       "      <th>GradRate</th>\n",
       "      <th>cluster</th>\n",
       "    </tr>\n",
       "  </thead>\n",
       "  <tbody>\n",
       "    <tr>\n",
       "      <th>12</th>\n",
       "      <td>NotreDame</td>\n",
       "      <td>IN</td>\n",
       "      <td>1255.0</td>\n",
       "      <td>81</td>\n",
       "      <td>42</td>\n",
       "      <td>13.000000</td>\n",
       "      <td>15122</td>\n",
       "      <td>94.0</td>\n",
       "      <td>0</td>\n",
       "    </tr>\n",
       "    <tr>\n",
       "      <th>17</th>\n",
       "      <td>TexasA&amp;M</td>\n",
       "      <td>TX</td>\n",
       "      <td>1075.0</td>\n",
       "      <td>49</td>\n",
       "      <td>67</td>\n",
       "      <td>25.000000</td>\n",
       "      <td>8704</td>\n",
       "      <td>67.0</td>\n",
       "      <td>0</td>\n",
       "    </tr>\n",
       "    <tr>\n",
       "      <th>15</th>\n",
       "      <td>Purdue</td>\n",
       "      <td>IN</td>\n",
       "      <td>1005.0</td>\n",
       "      <td>28</td>\n",
       "      <td>90</td>\n",
       "      <td>19.000000</td>\n",
       "      <td>9066</td>\n",
       "      <td>69.0</td>\n",
       "      <td>0</td>\n",
       "    </tr>\n",
       "    <tr>\n",
       "      <th>23</th>\n",
       "      <td>UWisconsin</td>\n",
       "      <td>WI</td>\n",
       "      <td>1085.0</td>\n",
       "      <td>40</td>\n",
       "      <td>69</td>\n",
       "      <td>15.000000</td>\n",
       "      <td>11857</td>\n",
       "      <td>71.0</td>\n",
       "      <td>0</td>\n",
       "    </tr>\n",
       "    <tr>\n",
       "      <th>19</th>\n",
       "      <td>UChicago</td>\n",
       "      <td>IL</td>\n",
       "      <td>1290.0</td>\n",
       "      <td>75</td>\n",
       "      <td>50</td>\n",
       "      <td>12.708333</td>\n",
       "      <td>38380</td>\n",
       "      <td>87.0</td>\n",
       "      <td>1</td>\n",
       "    </tr>\n",
       "  </tbody>\n",
       "</table>\n",
       "</div>"
      ],
      "text/plain": [
       "          Univ State     SAT  Top10  Accept    SFRatio  Expenses  GradRate  \\\n",
       "12   NotreDame    IN  1255.0     81      42  13.000000     15122      94.0   \n",
       "17    TexasA&M    TX  1075.0     49      67  25.000000      8704      67.0   \n",
       "15      Purdue    IN  1005.0     28      90  19.000000      9066      69.0   \n",
       "23  UWisconsin    WI  1085.0     40      69  15.000000     11857      71.0   \n",
       "19    UChicago    IL  1290.0     75      50  12.708333     38380      87.0   \n",
       "\n",
       "    cluster  \n",
       "12        0  \n",
       "17        0  \n",
       "15        0  \n",
       "23        0  \n",
       "19        1  "
      ]
     },
     "execution_count": 185,
     "metadata": {},
     "output_type": "execute_result"
    }
   ],
   "source": [
    "data_sort = data.sort_values(by = 'cluster', ascending = True )  #sorting the data \n",
    "data_sort.head()"
   ]
  },
  {
   "cell_type": "code",
   "execution_count": 186,
   "id": "4ff29872",
   "metadata": {},
   "outputs": [
    {
     "data": {
      "text/html": [
       "<div>\n",
       "<style scoped>\n",
       "    .dataframe tbody tr th:only-of-type {\n",
       "        vertical-align: middle;\n",
       "    }\n",
       "\n",
       "    .dataframe tbody tr th {\n",
       "        vertical-align: top;\n",
       "    }\n",
       "\n",
       "    .dataframe thead th {\n",
       "        text-align: right;\n",
       "    }\n",
       "</style>\n",
       "<table border=\"1\" class=\"dataframe\">\n",
       "  <thead>\n",
       "    <tr style=\"text-align: right;\">\n",
       "      <th></th>\n",
       "      <th>SAT</th>\n",
       "      <th>Top10</th>\n",
       "      <th>Accept</th>\n",
       "      <th>SFRatio</th>\n",
       "      <th>Expenses</th>\n",
       "      <th>GradRate</th>\n",
       "      <th>cluster</th>\n",
       "    </tr>\n",
       "    <tr>\n",
       "      <th>cluster</th>\n",
       "      <th></th>\n",
       "      <th></th>\n",
       "      <th></th>\n",
       "      <th></th>\n",
       "      <th></th>\n",
       "      <th></th>\n",
       "      <th></th>\n",
       "    </tr>\n",
       "  </thead>\n",
       "  <tbody>\n",
       "    <tr>\n",
       "      <th>0</th>\n",
       "      <td>1105.000000</td>\n",
       "      <td>49.500000</td>\n",
       "      <td>67.000000</td>\n",
       "      <td>18.000000</td>\n",
       "      <td>11187.250000</td>\n",
       "      <td>75.250000</td>\n",
       "      <td>0.0</td>\n",
       "    </tr>\n",
       "    <tr>\n",
       "      <th>1</th>\n",
       "      <td>1332.127778</td>\n",
       "      <td>86.466667</td>\n",
       "      <td>27.400000</td>\n",
       "      <td>10.713889</td>\n",
       "      <td>35548.533333</td>\n",
       "      <td>91.466667</td>\n",
       "      <td>1.0</td>\n",
       "    </tr>\n",
       "    <tr>\n",
       "      <th>2</th>\n",
       "      <td>1211.833333</td>\n",
       "      <td>69.500000</td>\n",
       "      <td>50.166667</td>\n",
       "      <td>14.166667</td>\n",
       "      <td>17787.166667</td>\n",
       "      <td>82.833333</td>\n",
       "      <td>2.0</td>\n",
       "    </tr>\n",
       "  </tbody>\n",
       "</table>\n",
       "</div>"
      ],
      "text/plain": [
       "                 SAT      Top10     Accept    SFRatio      Expenses  \\\n",
       "cluster                                                               \n",
       "0        1105.000000  49.500000  67.000000  18.000000  11187.250000   \n",
       "1        1332.127778  86.466667  27.400000  10.713889  35548.533333   \n",
       "2        1211.833333  69.500000  50.166667  14.166667  17787.166667   \n",
       "\n",
       "          GradRate  cluster  \n",
       "cluster                      \n",
       "0        75.250000      0.0  \n",
       "1        91.466667      1.0  \n",
       "2        82.833333      2.0  "
      ]
     },
     "execution_count": 186,
     "metadata": {},
     "output_type": "execute_result"
    }
   ],
   "source": [
    "data_sort.iloc[:,2:9].groupby(data_sort.cluster).mean()"
   ]
  },
  {
   "cell_type": "code",
   "execution_count": 188,
   "id": "864b5c0c",
   "metadata": {},
   "outputs": [
    {
     "data": {
      "text/html": [
       "<div>\n",
       "<style scoped>\n",
       "    .dataframe tbody tr th:only-of-type {\n",
       "        vertical-align: middle;\n",
       "    }\n",
       "\n",
       "    .dataframe tbody tr th {\n",
       "        vertical-align: top;\n",
       "    }\n",
       "\n",
       "    .dataframe thead th {\n",
       "        text-align: right;\n",
       "    }\n",
       "</style>\n",
       "<table border=\"1\" class=\"dataframe\">\n",
       "  <thead>\n",
       "    <tr style=\"text-align: right;\">\n",
       "      <th></th>\n",
       "      <th>Univ</th>\n",
       "      <th>State</th>\n",
       "      <th>SAT</th>\n",
       "      <th>Top10</th>\n",
       "      <th>Accept</th>\n",
       "      <th>SFRatio</th>\n",
       "      <th>Expenses</th>\n",
       "      <th>GradRate</th>\n",
       "      <th>cluster</th>\n",
       "    </tr>\n",
       "  </thead>\n",
       "  <tbody>\n",
       "    <tr>\n",
       "      <th>12</th>\n",
       "      <td>NotreDame</td>\n",
       "      <td>IN</td>\n",
       "      <td>1255.0</td>\n",
       "      <td>81</td>\n",
       "      <td>42</td>\n",
       "      <td>13.0</td>\n",
       "      <td>15122</td>\n",
       "      <td>94.0</td>\n",
       "      <td>0</td>\n",
       "    </tr>\n",
       "    <tr>\n",
       "      <th>17</th>\n",
       "      <td>TexasA&amp;M</td>\n",
       "      <td>TX</td>\n",
       "      <td>1075.0</td>\n",
       "      <td>49</td>\n",
       "      <td>67</td>\n",
       "      <td>25.0</td>\n",
       "      <td>8704</td>\n",
       "      <td>67.0</td>\n",
       "      <td>0</td>\n",
       "    </tr>\n",
       "    <tr>\n",
       "      <th>15</th>\n",
       "      <td>Purdue</td>\n",
       "      <td>IN</td>\n",
       "      <td>1005.0</td>\n",
       "      <td>28</td>\n",
       "      <td>90</td>\n",
       "      <td>19.0</td>\n",
       "      <td>9066</td>\n",
       "      <td>69.0</td>\n",
       "      <td>0</td>\n",
       "    </tr>\n",
       "    <tr>\n",
       "      <th>23</th>\n",
       "      <td>UWisconsin</td>\n",
       "      <td>WI</td>\n",
       "      <td>1085.0</td>\n",
       "      <td>40</td>\n",
       "      <td>69</td>\n",
       "      <td>15.0</td>\n",
       "      <td>11857</td>\n",
       "      <td>71.0</td>\n",
       "      <td>0</td>\n",
       "    </tr>\n",
       "  </tbody>\n",
       "</table>\n",
       "</div>"
      ],
      "text/plain": [
       "          Univ State     SAT  Top10  Accept  SFRatio  Expenses  GradRate  \\\n",
       "12   NotreDame    IN  1255.0     81      42     13.0     15122      94.0   \n",
       "17    TexasA&M    TX  1075.0     49      67     25.0      8704      67.0   \n",
       "15      Purdue    IN  1005.0     28      90     19.0      9066      69.0   \n",
       "23  UWisconsin    WI  1085.0     40      69     15.0     11857      71.0   \n",
       "\n",
       "    cluster  \n",
       "12        0  \n",
       "17        0  \n",
       "15        0  \n",
       "23        0  "
      ]
     },
     "execution_count": 188,
     "metadata": {},
     "output_type": "execute_result"
    }
   ],
   "source": [
    "cluster0 = data_sort.loc[data_sort.cluster == 0]\n",
    "cluster0"
   ]
  },
  {
   "cell_type": "code",
   "execution_count": 189,
   "id": "74a7f9e9",
   "metadata": {},
   "outputs": [
    {
     "data": {
      "text/html": [
       "<div>\n",
       "<style scoped>\n",
       "    .dataframe tbody tr th:only-of-type {\n",
       "        vertical-align: middle;\n",
       "    }\n",
       "\n",
       "    .dataframe tbody tr th {\n",
       "        vertical-align: top;\n",
       "    }\n",
       "\n",
       "    .dataframe thead th {\n",
       "        text-align: right;\n",
       "    }\n",
       "</style>\n",
       "<table border=\"1\" class=\"dataframe\">\n",
       "  <thead>\n",
       "    <tr style=\"text-align: right;\">\n",
       "      <th></th>\n",
       "      <th>Univ</th>\n",
       "      <th>State</th>\n",
       "      <th>SAT</th>\n",
       "      <th>Top10</th>\n",
       "      <th>Accept</th>\n",
       "      <th>SFRatio</th>\n",
       "      <th>Expenses</th>\n",
       "      <th>GradRate</th>\n",
       "      <th>cluster</th>\n",
       "    </tr>\n",
       "  </thead>\n",
       "  <tbody>\n",
       "    <tr>\n",
       "      <th>19</th>\n",
       "      <td>UChicago</td>\n",
       "      <td>IL</td>\n",
       "      <td>1290.000000</td>\n",
       "      <td>75</td>\n",
       "      <td>50</td>\n",
       "      <td>12.708333</td>\n",
       "      <td>38380</td>\n",
       "      <td>87.0</td>\n",
       "      <td>1</td>\n",
       "    </tr>\n",
       "    <tr>\n",
       "      <th>16</th>\n",
       "      <td>Stanford</td>\n",
       "      <td>CA</td>\n",
       "      <td>1360.000000</td>\n",
       "      <td>90</td>\n",
       "      <td>20</td>\n",
       "      <td>12.000000</td>\n",
       "      <td>36450</td>\n",
       "      <td>93.0</td>\n",
       "      <td>1</td>\n",
       "    </tr>\n",
       "    <tr>\n",
       "      <th>14</th>\n",
       "      <td>Princeton</td>\n",
       "      <td>NJ</td>\n",
       "      <td>1375.000000</td>\n",
       "      <td>91</td>\n",
       "      <td>14</td>\n",
       "      <td>8.000000</td>\n",
       "      <td>30220</td>\n",
       "      <td>95.0</td>\n",
       "      <td>1</td>\n",
       "    </tr>\n",
       "    <tr>\n",
       "      <th>11</th>\n",
       "      <td>Northwestern</td>\n",
       "      <td>IL</td>\n",
       "      <td>1260.000000</td>\n",
       "      <td>85</td>\n",
       "      <td>39</td>\n",
       "      <td>11.000000</td>\n",
       "      <td>28052</td>\n",
       "      <td>89.0</td>\n",
       "      <td>1</td>\n",
       "    </tr>\n",
       "    <tr>\n",
       "      <th>10</th>\n",
       "      <td>MIT</td>\n",
       "      <td>MA</td>\n",
       "      <td>1380.000000</td>\n",
       "      <td>94</td>\n",
       "      <td>30</td>\n",
       "      <td>10.000000</td>\n",
       "      <td>34870</td>\n",
       "      <td>91.0</td>\n",
       "      <td>1</td>\n",
       "    </tr>\n",
       "    <tr>\n",
       "      <th>0</th>\n",
       "      <td>Brown</td>\n",
       "      <td>RI</td>\n",
       "      <td>1310.000000</td>\n",
       "      <td>89</td>\n",
       "      <td>22</td>\n",
       "      <td>13.000000</td>\n",
       "      <td>22704</td>\n",
       "      <td>94.0</td>\n",
       "      <td>1</td>\n",
       "    </tr>\n",
       "    <tr>\n",
       "      <th>8</th>\n",
       "      <td>Harvard</td>\n",
       "      <td>MA</td>\n",
       "      <td>1400.000000</td>\n",
       "      <td>91</td>\n",
       "      <td>14</td>\n",
       "      <td>11.000000</td>\n",
       "      <td>39525</td>\n",
       "      <td>97.0</td>\n",
       "      <td>1</td>\n",
       "    </tr>\n",
       "    <tr>\n",
       "      <th>7</th>\n",
       "      <td>Georgetown</td>\n",
       "      <td>DC</td>\n",
       "      <td>1266.916667</td>\n",
       "      <td>74</td>\n",
       "      <td>24</td>\n",
       "      <td>12.000000</td>\n",
       "      <td>20126</td>\n",
       "      <td>92.0</td>\n",
       "      <td>1</td>\n",
       "    </tr>\n",
       "    <tr>\n",
       "      <th>6</th>\n",
       "      <td>Duke</td>\n",
       "      <td>NC</td>\n",
       "      <td>1315.000000</td>\n",
       "      <td>90</td>\n",
       "      <td>30</td>\n",
       "      <td>12.000000</td>\n",
       "      <td>31585</td>\n",
       "      <td>95.0</td>\n",
       "      <td>1</td>\n",
       "    </tr>\n",
       "    <tr>\n",
       "      <th>5</th>\n",
       "      <td>Dartmouth</td>\n",
       "      <td>NH</td>\n",
       "      <td>1340.000000</td>\n",
       "      <td>89</td>\n",
       "      <td>23</td>\n",
       "      <td>10.000000</td>\n",
       "      <td>32162</td>\n",
       "      <td>95.0</td>\n",
       "      <td>1</td>\n",
       "    </tr>\n",
       "    <tr>\n",
       "      <th>4</th>\n",
       "      <td>Cornell</td>\n",
       "      <td>NY</td>\n",
       "      <td>1280.000000</td>\n",
       "      <td>83</td>\n",
       "      <td>33</td>\n",
       "      <td>13.000000</td>\n",
       "      <td>21864</td>\n",
       "      <td>90.0</td>\n",
       "      <td>1</td>\n",
       "    </tr>\n",
       "    <tr>\n",
       "      <th>3</th>\n",
       "      <td>Columbia</td>\n",
       "      <td>NY</td>\n",
       "      <td>1310.000000</td>\n",
       "      <td>76</td>\n",
       "      <td>24</td>\n",
       "      <td>12.000000</td>\n",
       "      <td>31510</td>\n",
       "      <td>90.0</td>\n",
       "      <td>1</td>\n",
       "    </tr>\n",
       "    <tr>\n",
       "      <th>1</th>\n",
       "      <td>CalTech</td>\n",
       "      <td>CA</td>\n",
       "      <td>1415.000000</td>\n",
       "      <td>100</td>\n",
       "      <td>25</td>\n",
       "      <td>6.000000</td>\n",
       "      <td>63575</td>\n",
       "      <td>81.0</td>\n",
       "      <td>1</td>\n",
       "    </tr>\n",
       "    <tr>\n",
       "      <th>9</th>\n",
       "      <td>JohnsHopkins</td>\n",
       "      <td>MD</td>\n",
       "      <td>1305.000000</td>\n",
       "      <td>75</td>\n",
       "      <td>44</td>\n",
       "      <td>7.000000</td>\n",
       "      <td>58691</td>\n",
       "      <td>87.0</td>\n",
       "      <td>1</td>\n",
       "    </tr>\n",
       "    <tr>\n",
       "      <th>24</th>\n",
       "      <td>Yale</td>\n",
       "      <td>CT</td>\n",
       "      <td>1375.000000</td>\n",
       "      <td>95</td>\n",
       "      <td>19</td>\n",
       "      <td>11.000000</td>\n",
       "      <td>43514</td>\n",
       "      <td>96.0</td>\n",
       "      <td>1</td>\n",
       "    </tr>\n",
       "  </tbody>\n",
       "</table>\n",
       "</div>"
      ],
      "text/plain": [
       "            Univ State          SAT  Top10  Accept    SFRatio  Expenses  \\\n",
       "19      UChicago    IL  1290.000000     75      50  12.708333     38380   \n",
       "16      Stanford    CA  1360.000000     90      20  12.000000     36450   \n",
       "14     Princeton    NJ  1375.000000     91      14   8.000000     30220   \n",
       "11  Northwestern    IL  1260.000000     85      39  11.000000     28052   \n",
       "10           MIT    MA  1380.000000     94      30  10.000000     34870   \n",
       "0          Brown    RI  1310.000000     89      22  13.000000     22704   \n",
       "8        Harvard    MA  1400.000000     91      14  11.000000     39525   \n",
       "7     Georgetown    DC  1266.916667     74      24  12.000000     20126   \n",
       "6           Duke    NC  1315.000000     90      30  12.000000     31585   \n",
       "5      Dartmouth    NH  1340.000000     89      23  10.000000     32162   \n",
       "4        Cornell    NY  1280.000000     83      33  13.000000     21864   \n",
       "3       Columbia    NY  1310.000000     76      24  12.000000     31510   \n",
       "1        CalTech    CA  1415.000000    100      25   6.000000     63575   \n",
       "9   JohnsHopkins    MD  1305.000000     75      44   7.000000     58691   \n",
       "24          Yale    CT  1375.000000     95      19  11.000000     43514   \n",
       "\n",
       "    GradRate  cluster  \n",
       "19      87.0        1  \n",
       "16      93.0        1  \n",
       "14      95.0        1  \n",
       "11      89.0        1  \n",
       "10      91.0        1  \n",
       "0       94.0        1  \n",
       "8       97.0        1  \n",
       "7       92.0        1  \n",
       "6       95.0        1  \n",
       "5       95.0        1  \n",
       "4       90.0        1  \n",
       "3       90.0        1  \n",
       "1       81.0        1  \n",
       "9       87.0        1  \n",
       "24      96.0        1  "
      ]
     },
     "execution_count": 189,
     "metadata": {},
     "output_type": "execute_result"
    }
   ],
   "source": [
    "cluster1 = data_sort.loc[data_sort.cluster == 1]\n",
    "cluster1"
   ]
  },
  {
   "cell_type": "code",
   "execution_count": 190,
   "id": "092eff64",
   "metadata": {},
   "outputs": [
    {
     "data": {
      "text/html": [
       "<div>\n",
       "<style scoped>\n",
       "    .dataframe tbody tr th:only-of-type {\n",
       "        vertical-align: middle;\n",
       "    }\n",
       "\n",
       "    .dataframe tbody tr th {\n",
       "        vertical-align: top;\n",
       "    }\n",
       "\n",
       "    .dataframe thead th {\n",
       "        text-align: right;\n",
       "    }\n",
       "</style>\n",
       "<table border=\"1\" class=\"dataframe\">\n",
       "  <thead>\n",
       "    <tr style=\"text-align: right;\">\n",
       "      <th></th>\n",
       "      <th>Univ</th>\n",
       "      <th>State</th>\n",
       "      <th>SAT</th>\n",
       "      <th>Top10</th>\n",
       "      <th>Accept</th>\n",
       "      <th>SFRatio</th>\n",
       "      <th>Expenses</th>\n",
       "      <th>GradRate</th>\n",
       "      <th>cluster</th>\n",
       "    </tr>\n",
       "  </thead>\n",
       "  <tbody>\n",
       "    <tr>\n",
       "      <th>13</th>\n",
       "      <td>PennState</td>\n",
       "      <td>PA</td>\n",
       "      <td>1081.0</td>\n",
       "      <td>38</td>\n",
       "      <td>54</td>\n",
       "      <td>18.0</td>\n",
       "      <td>10185</td>\n",
       "      <td>80.0</td>\n",
       "      <td>2</td>\n",
       "    </tr>\n",
       "    <tr>\n",
       "      <th>2</th>\n",
       "      <td>CMU</td>\n",
       "      <td>PA</td>\n",
       "      <td>1260.0</td>\n",
       "      <td>62</td>\n",
       "      <td>59</td>\n",
       "      <td>9.0</td>\n",
       "      <td>25026</td>\n",
       "      <td>72.0</td>\n",
       "      <td>2</td>\n",
       "    </tr>\n",
       "    <tr>\n",
       "      <th>18</th>\n",
       "      <td>UCBerkeley</td>\n",
       "      <td>CA</td>\n",
       "      <td>1240.0</td>\n",
       "      <td>95</td>\n",
       "      <td>40</td>\n",
       "      <td>17.0</td>\n",
       "      <td>15140</td>\n",
       "      <td>78.0</td>\n",
       "      <td>2</td>\n",
       "    </tr>\n",
       "    <tr>\n",
       "      <th>20</th>\n",
       "      <td>UMichigan</td>\n",
       "      <td>MI</td>\n",
       "      <td>1180.0</td>\n",
       "      <td>65</td>\n",
       "      <td>68</td>\n",
       "      <td>16.0</td>\n",
       "      <td>15470</td>\n",
       "      <td>85.0</td>\n",
       "      <td>2</td>\n",
       "    </tr>\n",
       "    <tr>\n",
       "      <th>21</th>\n",
       "      <td>UPenn</td>\n",
       "      <td>PA</td>\n",
       "      <td>1285.0</td>\n",
       "      <td>80</td>\n",
       "      <td>36</td>\n",
       "      <td>11.0</td>\n",
       "      <td>27553</td>\n",
       "      <td>90.0</td>\n",
       "      <td>2</td>\n",
       "    </tr>\n",
       "    <tr>\n",
       "      <th>22</th>\n",
       "      <td>UVA</td>\n",
       "      <td>VA</td>\n",
       "      <td>1225.0</td>\n",
       "      <td>77</td>\n",
       "      <td>44</td>\n",
       "      <td>14.0</td>\n",
       "      <td>13349</td>\n",
       "      <td>92.0</td>\n",
       "      <td>2</td>\n",
       "    </tr>\n",
       "  </tbody>\n",
       "</table>\n",
       "</div>"
      ],
      "text/plain": [
       "          Univ State     SAT  Top10  Accept  SFRatio  Expenses  GradRate  \\\n",
       "13   PennState    PA  1081.0     38      54     18.0     10185      80.0   \n",
       "2          CMU    PA  1260.0     62      59      9.0     25026      72.0   \n",
       "18  UCBerkeley    CA  1240.0     95      40     17.0     15140      78.0   \n",
       "20   UMichigan    MI  1180.0     65      68     16.0     15470      85.0   \n",
       "21       UPenn    PA  1285.0     80      36     11.0     27553      90.0   \n",
       "22         UVA    VA  1225.0     77      44     14.0     13349      92.0   \n",
       "\n",
       "    cluster  \n",
       "13        2  \n",
       "2         2  \n",
       "18        2  \n",
       "20        2  \n",
       "21        2  \n",
       "22        2  "
      ]
     },
     "execution_count": 190,
     "metadata": {},
     "output_type": "execute_result"
    }
   ],
   "source": [
    "cluster2 = data_sort.loc[data_sort.cluster == 2]\n",
    "cluster2"
   ]
  },
  {
   "cell_type": "code",
   "execution_count": 200,
   "id": "f78e0b65",
   "metadata": {},
   "outputs": [
    {
     "data": {
      "text/plain": [
       "<function nt.getcwd()>"
      ]
     },
     "execution_count": 200,
     "metadata": {},
     "output_type": "execute_result"
    }
   ],
   "source": [
    "cluster0.to_csv('university_0.csv',encoding = 'utf-8')\n",
    "import os\n",
    "os.getcwd"
   ]
  },
  {
   "cell_type": "code",
   "execution_count": 201,
   "id": "53fa30f4",
   "metadata": {},
   "outputs": [
    {
     "data": {
      "text/plain": [
       "<function nt.getcwd()>"
      ]
     },
     "execution_count": 201,
     "metadata": {},
     "output_type": "execute_result"
    }
   ],
   "source": [
    "cluster1.to_csv('university_1.csv', encoding = 'utf-8')\n",
    "import os\n",
    "os.getcwd"
   ]
  },
  {
   "cell_type": "code",
   "execution_count": 202,
   "id": "d1c13dee",
   "metadata": {},
   "outputs": [
    {
     "data": {
      "text/plain": [
       "<function nt.getcwd()>"
      ]
     },
     "execution_count": 202,
     "metadata": {},
     "output_type": "execute_result"
    }
   ],
   "source": [
    "cluster2.to_csv('university_2.csv', encoding = 'utf-8')\n",
    "import os\n",
    "os.getcwd"
   ]
  }
 ],
 "metadata": {
  "kernelspec": {
   "display_name": "Python 3 (ipykernel)",
   "language": "python",
   "name": "python3"
  },
  "language_info": {
   "codemirror_mode": {
    "name": "ipython",
    "version": 3
   },
   "file_extension": ".py",
   "mimetype": "text/x-python",
   "name": "python",
   "nbconvert_exporter": "python",
   "pygments_lexer": "ipython3",
   "version": "3.9.13"
  }
 },
 "nbformat": 4,
 "nbformat_minor": 5
}
